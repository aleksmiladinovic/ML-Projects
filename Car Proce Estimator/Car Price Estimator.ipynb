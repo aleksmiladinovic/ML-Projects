{
 "cells": [
  {
   "cell_type": "markdown",
   "id": "8a9ad09d-893f-481e-aadb-56aafd0140a9",
   "metadata": {},
   "source": [
    "# Car Price Estimator\n",
    "\n",
    "In this notebook we will build a regression model for predicting car prices. The dataset used for training and evaluation is obtained from the Kaggle platform, and can be accessed [here](https://www.kaggle.com/datasets/asinow/car-price-dataset).\n",
    "\n",
    "The model that we will use is the linear regression model. The emphasis of this project is on data visualization and interpretability of the results.\n",
    "\n",
    "Let's begin:"
   ]
  },
  {
   "cell_type": "code",
   "execution_count": 2,
   "id": "defe843c-bae6-4db4-8867-cdd3081068c3",
   "metadata": {},
   "outputs": [],
   "source": [
    "import numpy as np\n",
    "import pandas as pd\n",
    "from matplotlib import pyplot as plt\n",
    "from sklearn import model_selection\n",
    "from sklearn import linear_model\n",
    "from sklearn import preprocessing\n",
    "from sklearn import metrics"
   ]
  },
  {
   "cell_type": "code",
   "execution_count": 4,
   "id": "29143bd2-1dd4-4988-a9b7-363444621ef3",
   "metadata": {},
   "outputs": [],
   "source": [
    "data = pd.read_csv('car_price_dataset.csv')"
   ]
  },
  {
   "cell_type": "markdown",
   "id": "d21a10a5-d71c-4edc-b68e-1efa2bd82f6a",
   "metadata": {},
   "source": [
    "Let us see how this dataset is organized:"
   ]
  },
  {
   "cell_type": "code",
   "execution_count": 7,
   "id": "90aaec29-b113-4939-ae13-27aec13f8737",
   "metadata": {},
   "outputs": [
    {
     "data": {
      "text/html": [
       "<div>\n",
       "<style scoped>\n",
       "    .dataframe tbody tr th:only-of-type {\n",
       "        vertical-align: middle;\n",
       "    }\n",
       "\n",
       "    .dataframe tbody tr th {\n",
       "        vertical-align: top;\n",
       "    }\n",
       "\n",
       "    .dataframe thead th {\n",
       "        text-align: right;\n",
       "    }\n",
       "</style>\n",
       "<table border=\"1\" class=\"dataframe\">\n",
       "  <thead>\n",
       "    <tr style=\"text-align: right;\">\n",
       "      <th></th>\n",
       "      <th>Brand</th>\n",
       "      <th>Model</th>\n",
       "      <th>Year</th>\n",
       "      <th>Engine_Size</th>\n",
       "      <th>Fuel_Type</th>\n",
       "      <th>Transmission</th>\n",
       "      <th>Mileage</th>\n",
       "      <th>Doors</th>\n",
       "      <th>Owner_Count</th>\n",
       "      <th>Price</th>\n",
       "    </tr>\n",
       "  </thead>\n",
       "  <tbody>\n",
       "    <tr>\n",
       "      <th>0</th>\n",
       "      <td>Kia</td>\n",
       "      <td>Rio</td>\n",
       "      <td>2020</td>\n",
       "      <td>4.2</td>\n",
       "      <td>Diesel</td>\n",
       "      <td>Manual</td>\n",
       "      <td>289944</td>\n",
       "      <td>3</td>\n",
       "      <td>5</td>\n",
       "      <td>8501</td>\n",
       "    </tr>\n",
       "    <tr>\n",
       "      <th>1</th>\n",
       "      <td>Chevrolet</td>\n",
       "      <td>Malibu</td>\n",
       "      <td>2012</td>\n",
       "      <td>2.0</td>\n",
       "      <td>Hybrid</td>\n",
       "      <td>Automatic</td>\n",
       "      <td>5356</td>\n",
       "      <td>2</td>\n",
       "      <td>3</td>\n",
       "      <td>12092</td>\n",
       "    </tr>\n",
       "    <tr>\n",
       "      <th>2</th>\n",
       "      <td>Mercedes</td>\n",
       "      <td>GLA</td>\n",
       "      <td>2020</td>\n",
       "      <td>4.2</td>\n",
       "      <td>Diesel</td>\n",
       "      <td>Automatic</td>\n",
       "      <td>231440</td>\n",
       "      <td>4</td>\n",
       "      <td>2</td>\n",
       "      <td>11171</td>\n",
       "    </tr>\n",
       "    <tr>\n",
       "      <th>3</th>\n",
       "      <td>Audi</td>\n",
       "      <td>Q5</td>\n",
       "      <td>2023</td>\n",
       "      <td>2.0</td>\n",
       "      <td>Electric</td>\n",
       "      <td>Manual</td>\n",
       "      <td>160971</td>\n",
       "      <td>2</td>\n",
       "      <td>1</td>\n",
       "      <td>11780</td>\n",
       "    </tr>\n",
       "    <tr>\n",
       "      <th>4</th>\n",
       "      <td>Volkswagen</td>\n",
       "      <td>Golf</td>\n",
       "      <td>2003</td>\n",
       "      <td>2.6</td>\n",
       "      <td>Hybrid</td>\n",
       "      <td>Semi-Automatic</td>\n",
       "      <td>286618</td>\n",
       "      <td>3</td>\n",
       "      <td>3</td>\n",
       "      <td>2867</td>\n",
       "    </tr>\n",
       "    <tr>\n",
       "      <th>5</th>\n",
       "      <td>Toyota</td>\n",
       "      <td>Camry</td>\n",
       "      <td>2007</td>\n",
       "      <td>2.7</td>\n",
       "      <td>Petrol</td>\n",
       "      <td>Automatic</td>\n",
       "      <td>157889</td>\n",
       "      <td>4</td>\n",
       "      <td>4</td>\n",
       "      <td>7242</td>\n",
       "    </tr>\n",
       "    <tr>\n",
       "      <th>6</th>\n",
       "      <td>Honda</td>\n",
       "      <td>Civic</td>\n",
       "      <td>2010</td>\n",
       "      <td>3.4</td>\n",
       "      <td>Electric</td>\n",
       "      <td>Automatic</td>\n",
       "      <td>139584</td>\n",
       "      <td>3</td>\n",
       "      <td>1</td>\n",
       "      <td>11208</td>\n",
       "    </tr>\n",
       "    <tr>\n",
       "      <th>7</th>\n",
       "      <td>Kia</td>\n",
       "      <td>Sportage</td>\n",
       "      <td>2001</td>\n",
       "      <td>4.7</td>\n",
       "      <td>Electric</td>\n",
       "      <td>Semi-Automatic</td>\n",
       "      <td>157495</td>\n",
       "      <td>2</td>\n",
       "      <td>2</td>\n",
       "      <td>7950</td>\n",
       "    </tr>\n",
       "    <tr>\n",
       "      <th>8</th>\n",
       "      <td>Kia</td>\n",
       "      <td>Sportage</td>\n",
       "      <td>2014</td>\n",
       "      <td>2.6</td>\n",
       "      <td>Hybrid</td>\n",
       "      <td>Manual</td>\n",
       "      <td>98700</td>\n",
       "      <td>3</td>\n",
       "      <td>4</td>\n",
       "      <td>9926</td>\n",
       "    </tr>\n",
       "    <tr>\n",
       "      <th>9</th>\n",
       "      <td>Toyota</td>\n",
       "      <td>RAV4</td>\n",
       "      <td>2005</td>\n",
       "      <td>3.1</td>\n",
       "      <td>Petrol</td>\n",
       "      <td>Manual</td>\n",
       "      <td>107724</td>\n",
       "      <td>2</td>\n",
       "      <td>5</td>\n",
       "      <td>6545</td>\n",
       "    </tr>\n",
       "  </tbody>\n",
       "</table>\n",
       "</div>"
      ],
      "text/plain": [
       "        Brand     Model  Year  Engine_Size Fuel_Type    Transmission  Mileage  \\\n",
       "0         Kia       Rio  2020          4.2    Diesel          Manual   289944   \n",
       "1   Chevrolet    Malibu  2012          2.0    Hybrid       Automatic     5356   \n",
       "2    Mercedes       GLA  2020          4.2    Diesel       Automatic   231440   \n",
       "3        Audi        Q5  2023          2.0  Electric          Manual   160971   \n",
       "4  Volkswagen      Golf  2003          2.6    Hybrid  Semi-Automatic   286618   \n",
       "5      Toyota     Camry  2007          2.7    Petrol       Automatic   157889   \n",
       "6       Honda     Civic  2010          3.4  Electric       Automatic   139584   \n",
       "7         Kia  Sportage  2001          4.7  Electric  Semi-Automatic   157495   \n",
       "8         Kia  Sportage  2014          2.6    Hybrid          Manual    98700   \n",
       "9      Toyota      RAV4  2005          3.1    Petrol          Manual   107724   \n",
       "\n",
       "   Doors  Owner_Count  Price  \n",
       "0      3            5   8501  \n",
       "1      2            3  12092  \n",
       "2      4            2  11171  \n",
       "3      2            1  11780  \n",
       "4      3            3   2867  \n",
       "5      4            4   7242  \n",
       "6      3            1  11208  \n",
       "7      2            2   7950  \n",
       "8      3            4   9926  \n",
       "9      2            5   6545  "
      ]
     },
     "execution_count": 7,
     "metadata": {},
     "output_type": "execute_result"
    }
   ],
   "source": [
    "data.head(10)"
   ]
  },
  {
   "cell_type": "code",
   "execution_count": 9,
   "id": "a693c104-0339-46e4-b08d-c7e092a67714",
   "metadata": {},
   "outputs": [
    {
     "name": "stdout",
     "output_type": "stream",
     "text": [
      "Number of instances in the dataset is:  10000\n"
     ]
    }
   ],
   "source": [
    "print(\"Number of instances in the dataset is: \", len(data))"
   ]
  },
  {
   "cell_type": "markdown",
   "id": "25948667-8ecc-4785-ba59-e18d16497ed9",
   "metadata": {},
   "source": [
    "As we can see, the `Brand`, `Model`, `Fuel_Type`, `Transmission` columns consist of text, hence, in order to use the regression model, we need to categorify this data."
   ]
  },
  {
   "cell_type": "markdown",
   "id": "79d7c81d-0ea0-4259-8c8b-4739781bc10d",
   "metadata": {},
   "source": [
    "## Categorization of text data\n",
    "\n",
    "In order to get more familiar with the data let us calculate the number of brands and the total number of models:"
   ]
  },
  {
   "cell_type": "code",
   "execution_count": 13,
   "id": "e58dc4bc-b29f-4200-87c0-49bf55986961",
   "metadata": {},
   "outputs": [
    {
     "name": "stdout",
     "output_type": "stream",
     "text": [
      "The number of car brands is: 10\n",
      "The total number of models is: 30\n"
     ]
    }
   ],
   "source": [
    "num_brands = data['Brand'].nunique()\n",
    "num_models = data['Model'].nunique()\n",
    "\n",
    "print('The number of car brands is:', num_brands)\n",
    "print('The total number of models is:', num_models)"
   ]
  },
  {
   "cell_type": "code",
   "execution_count": 15,
   "id": "eb515476-af62-46a8-aa74-4dc40e79bbb9",
   "metadata": {},
   "outputs": [
    {
     "name": "stdout",
     "output_type": "stream",
     "text": [
      "Model\n",
      "Accord      365\n",
      "Fiesta      363\n",
      "Impala      355\n",
      "5 Series    353\n",
      "Tiguan      352\n",
      "Focus       351\n",
      "Q5          350\n",
      "A4          350\n",
      "Elantra     347\n",
      "Golf        339\n",
      "A3          338\n",
      "Optima      336\n",
      "Civic       336\n",
      "3 Series    335\n",
      "Explorer    334\n",
      "Malibu      333\n",
      "Tucson      329\n",
      "Passat      329\n",
      "Rio         327\n",
      "Corolla     325\n",
      "RAV4        324\n",
      "Camry       321\n",
      "E-Class     321\n",
      "Sonata      319\n",
      "Equinox     315\n",
      "GLA         315\n",
      "Sportage    313\n",
      "X5          311\n",
      "CR-V        308\n",
      "C-Class     306\n",
      "Name: count, dtype: int64\n"
     ]
    }
   ],
   "source": [
    "num_of_cars_per_model = data['Model'].value_counts()\n",
    "print(num_of_cars_per_model)"
   ]
  },
  {
   "cell_type": "markdown",
   "id": "70bc2b73-9996-4f10-8a53-d5ceaa4e9f6f",
   "metadata": {},
   "source": [
    "Let us begin with the categorification."
   ]
  },
  {
   "cell_type": "code",
   "execution_count": 18,
   "id": "a58fbe56-9c4c-498b-9848-0037c12e49e3",
   "metadata": {},
   "outputs": [],
   "source": [
    "brand_id = {}\n",
    "id_brand = []\n",
    "model_id = {}\n",
    "id_model = []\n",
    "fuel_id = {}\n",
    "id_fuel = []\n",
    "transmission_id = {}\n",
    "id_transmission = []\n",
    "brand_count = 0\n",
    "model_count = 0\n",
    "fuel_count = 0\n",
    "transmission_count = 0\n",
    "\n",
    "data_subset = data.loc[:,['Brand', 'Model', 'Fuel_Type', 'Transmission']]\n",
    "list_of_cars = list(data[['Brand', 'Model']].itertuples(index=False, name=None))\n",
    "\n",
    "for row in data_subset.itertuples(index=False):\n",
    "    brand = row.Brand\n",
    "    model = row.Model\n",
    "    fuel = row.Fuel_Type\n",
    "    transmission = row.Transmission\n",
    "    if brand_id.get(brand) == None:\n",
    "        brand_id[brand] = brand_count\n",
    "        id_brand.append(brand)\n",
    "        brand_count += 1\n",
    "    if model_id.get(model) == None:\n",
    "        model_id[model] = model_count\n",
    "        id_model.append(model)\n",
    "        model_count += 1\n",
    "    if fuel_id.get(fuel) == None:\n",
    "        fuel_id[fuel] = fuel_count\n",
    "        id_fuel.append(fuel)\n",
    "        fuel_count += 1\n",
    "    if transmission_id.get(transmission) == None:\n",
    "        transmission_id[transmission] = transmission_count\n",
    "        id_transmission.append(transmission)\n",
    "        transmission_count += 1\n",
    "\n",
    "def get_brand_id( brand ):\n",
    "    return brand_id[brand]\n",
    "\n",
    "def get_model_id( model ):\n",
    "    return model_id[model]\n",
    "\n",
    "def get_fuel_id( fuel ):\n",
    "    return fuel_id[fuel]\n",
    "\n",
    "def get_transmission_id( transmission ):\n",
    "    return transmission_id[transmission]\n",
    "\n",
    "data['Brand_ID'] = data['Brand'].apply(get_brand_id)\n",
    "data['Model_ID'] = data['Model'].apply(get_model_id)\n",
    "data['Fuel_Type_ID'] = data['Fuel_Type'].apply(get_fuel_id)\n",
    "data['Transmission_ID'] = data['Transmission'].apply(get_transmission_id)"
   ]
  },
  {
   "cell_type": "code",
   "execution_count": 20,
   "id": "052c521f-fc03-484c-a369-548ab02c2a7a",
   "metadata": {},
   "outputs": [
    {
     "data": {
      "text/html": [
       "<div>\n",
       "<style scoped>\n",
       "    .dataframe tbody tr th:only-of-type {\n",
       "        vertical-align: middle;\n",
       "    }\n",
       "\n",
       "    .dataframe tbody tr th {\n",
       "        vertical-align: top;\n",
       "    }\n",
       "\n",
       "    .dataframe thead th {\n",
       "        text-align: right;\n",
       "    }\n",
       "</style>\n",
       "<table border=\"1\" class=\"dataframe\">\n",
       "  <thead>\n",
       "    <tr style=\"text-align: right;\">\n",
       "      <th></th>\n",
       "      <th>Brand</th>\n",
       "      <th>Model</th>\n",
       "      <th>Year</th>\n",
       "      <th>Engine_Size</th>\n",
       "      <th>Fuel_Type</th>\n",
       "      <th>Transmission</th>\n",
       "      <th>Mileage</th>\n",
       "      <th>Doors</th>\n",
       "      <th>Owner_Count</th>\n",
       "      <th>Price</th>\n",
       "      <th>Brand_ID</th>\n",
       "      <th>Model_ID</th>\n",
       "      <th>Fuel_Type_ID</th>\n",
       "      <th>Transmission_ID</th>\n",
       "    </tr>\n",
       "  </thead>\n",
       "  <tbody>\n",
       "    <tr>\n",
       "      <th>0</th>\n",
       "      <td>Kia</td>\n",
       "      <td>Rio</td>\n",
       "      <td>2020</td>\n",
       "      <td>4.2</td>\n",
       "      <td>Diesel</td>\n",
       "      <td>Manual</td>\n",
       "      <td>289944</td>\n",
       "      <td>3</td>\n",
       "      <td>5</td>\n",
       "      <td>8501</td>\n",
       "      <td>0</td>\n",
       "      <td>0</td>\n",
       "      <td>0</td>\n",
       "      <td>0</td>\n",
       "    </tr>\n",
       "    <tr>\n",
       "      <th>1</th>\n",
       "      <td>Chevrolet</td>\n",
       "      <td>Malibu</td>\n",
       "      <td>2012</td>\n",
       "      <td>2.0</td>\n",
       "      <td>Hybrid</td>\n",
       "      <td>Automatic</td>\n",
       "      <td>5356</td>\n",
       "      <td>2</td>\n",
       "      <td>3</td>\n",
       "      <td>12092</td>\n",
       "      <td>1</td>\n",
       "      <td>1</td>\n",
       "      <td>1</td>\n",
       "      <td>1</td>\n",
       "    </tr>\n",
       "    <tr>\n",
       "      <th>2</th>\n",
       "      <td>Mercedes</td>\n",
       "      <td>GLA</td>\n",
       "      <td>2020</td>\n",
       "      <td>4.2</td>\n",
       "      <td>Diesel</td>\n",
       "      <td>Automatic</td>\n",
       "      <td>231440</td>\n",
       "      <td>4</td>\n",
       "      <td>2</td>\n",
       "      <td>11171</td>\n",
       "      <td>2</td>\n",
       "      <td>2</td>\n",
       "      <td>0</td>\n",
       "      <td>1</td>\n",
       "    </tr>\n",
       "    <tr>\n",
       "      <th>3</th>\n",
       "      <td>Audi</td>\n",
       "      <td>Q5</td>\n",
       "      <td>2023</td>\n",
       "      <td>2.0</td>\n",
       "      <td>Electric</td>\n",
       "      <td>Manual</td>\n",
       "      <td>160971</td>\n",
       "      <td>2</td>\n",
       "      <td>1</td>\n",
       "      <td>11780</td>\n",
       "      <td>3</td>\n",
       "      <td>3</td>\n",
       "      <td>2</td>\n",
       "      <td>0</td>\n",
       "    </tr>\n",
       "    <tr>\n",
       "      <th>4</th>\n",
       "      <td>Volkswagen</td>\n",
       "      <td>Golf</td>\n",
       "      <td>2003</td>\n",
       "      <td>2.6</td>\n",
       "      <td>Hybrid</td>\n",
       "      <td>Semi-Automatic</td>\n",
       "      <td>286618</td>\n",
       "      <td>3</td>\n",
       "      <td>3</td>\n",
       "      <td>2867</td>\n",
       "      <td>4</td>\n",
       "      <td>4</td>\n",
       "      <td>1</td>\n",
       "      <td>2</td>\n",
       "    </tr>\n",
       "    <tr>\n",
       "      <th>5</th>\n",
       "      <td>Toyota</td>\n",
       "      <td>Camry</td>\n",
       "      <td>2007</td>\n",
       "      <td>2.7</td>\n",
       "      <td>Petrol</td>\n",
       "      <td>Automatic</td>\n",
       "      <td>157889</td>\n",
       "      <td>4</td>\n",
       "      <td>4</td>\n",
       "      <td>7242</td>\n",
       "      <td>5</td>\n",
       "      <td>5</td>\n",
       "      <td>3</td>\n",
       "      <td>1</td>\n",
       "    </tr>\n",
       "    <tr>\n",
       "      <th>6</th>\n",
       "      <td>Honda</td>\n",
       "      <td>Civic</td>\n",
       "      <td>2010</td>\n",
       "      <td>3.4</td>\n",
       "      <td>Electric</td>\n",
       "      <td>Automatic</td>\n",
       "      <td>139584</td>\n",
       "      <td>3</td>\n",
       "      <td>1</td>\n",
       "      <td>11208</td>\n",
       "      <td>6</td>\n",
       "      <td>6</td>\n",
       "      <td>2</td>\n",
       "      <td>1</td>\n",
       "    </tr>\n",
       "    <tr>\n",
       "      <th>7</th>\n",
       "      <td>Kia</td>\n",
       "      <td>Sportage</td>\n",
       "      <td>2001</td>\n",
       "      <td>4.7</td>\n",
       "      <td>Electric</td>\n",
       "      <td>Semi-Automatic</td>\n",
       "      <td>157495</td>\n",
       "      <td>2</td>\n",
       "      <td>2</td>\n",
       "      <td>7950</td>\n",
       "      <td>0</td>\n",
       "      <td>7</td>\n",
       "      <td>2</td>\n",
       "      <td>2</td>\n",
       "    </tr>\n",
       "    <tr>\n",
       "      <th>8</th>\n",
       "      <td>Kia</td>\n",
       "      <td>Sportage</td>\n",
       "      <td>2014</td>\n",
       "      <td>2.6</td>\n",
       "      <td>Hybrid</td>\n",
       "      <td>Manual</td>\n",
       "      <td>98700</td>\n",
       "      <td>3</td>\n",
       "      <td>4</td>\n",
       "      <td>9926</td>\n",
       "      <td>0</td>\n",
       "      <td>7</td>\n",
       "      <td>1</td>\n",
       "      <td>0</td>\n",
       "    </tr>\n",
       "    <tr>\n",
       "      <th>9</th>\n",
       "      <td>Toyota</td>\n",
       "      <td>RAV4</td>\n",
       "      <td>2005</td>\n",
       "      <td>3.1</td>\n",
       "      <td>Petrol</td>\n",
       "      <td>Manual</td>\n",
       "      <td>107724</td>\n",
       "      <td>2</td>\n",
       "      <td>5</td>\n",
       "      <td>6545</td>\n",
       "      <td>5</td>\n",
       "      <td>8</td>\n",
       "      <td>3</td>\n",
       "      <td>0</td>\n",
       "    </tr>\n",
       "  </tbody>\n",
       "</table>\n",
       "</div>"
      ],
      "text/plain": [
       "        Brand     Model  Year  Engine_Size Fuel_Type    Transmission  Mileage  \\\n",
       "0         Kia       Rio  2020          4.2    Diesel          Manual   289944   \n",
       "1   Chevrolet    Malibu  2012          2.0    Hybrid       Automatic     5356   \n",
       "2    Mercedes       GLA  2020          4.2    Diesel       Automatic   231440   \n",
       "3        Audi        Q5  2023          2.0  Electric          Manual   160971   \n",
       "4  Volkswagen      Golf  2003          2.6    Hybrid  Semi-Automatic   286618   \n",
       "5      Toyota     Camry  2007          2.7    Petrol       Automatic   157889   \n",
       "6       Honda     Civic  2010          3.4  Electric       Automatic   139584   \n",
       "7         Kia  Sportage  2001          4.7  Electric  Semi-Automatic   157495   \n",
       "8         Kia  Sportage  2014          2.6    Hybrid          Manual    98700   \n",
       "9      Toyota      RAV4  2005          3.1    Petrol          Manual   107724   \n",
       "\n",
       "   Doors  Owner_Count  Price  Brand_ID  Model_ID  Fuel_Type_ID  \\\n",
       "0      3            5   8501         0         0             0   \n",
       "1      2            3  12092         1         1             1   \n",
       "2      4            2  11171         2         2             0   \n",
       "3      2            1  11780         3         3             2   \n",
       "4      3            3   2867         4         4             1   \n",
       "5      4            4   7242         5         5             3   \n",
       "6      3            1  11208         6         6             2   \n",
       "7      2            2   7950         0         7             2   \n",
       "8      3            4   9926         0         7             1   \n",
       "9      2            5   6545         5         8             3   \n",
       "\n",
       "   Transmission_ID  \n",
       "0                0  \n",
       "1                1  \n",
       "2                1  \n",
       "3                0  \n",
       "4                2  \n",
       "5                1  \n",
       "6                1  \n",
       "7                2  \n",
       "8                0  \n",
       "9                0  "
      ]
     },
     "execution_count": 20,
     "metadata": {},
     "output_type": "execute_result"
    }
   ],
   "source": [
    "data.head(10)"
   ]
  },
  {
   "cell_type": "markdown",
   "id": "8c2d90f4-be55-4413-874f-30afdc581b51",
   "metadata": {},
   "source": [
    "We can also visualize this data:"
   ]
  },
  {
   "cell_type": "code",
   "execution_count": 23,
   "id": "d54545cf-328b-44b1-8d23-202e8166b7e5",
   "metadata": {},
   "outputs": [
    {
     "data": {
      "text/plain": [
       "array([[<Axes: title={'center': 'Year'}>,\n",
       "        <Axes: title={'center': 'Engine_Size'}>,\n",
       "        <Axes: title={'center': 'Mileage'}>],\n",
       "       [<Axes: title={'center': 'Doors'}>,\n",
       "        <Axes: title={'center': 'Owner_Count'}>,\n",
       "        <Axes: title={'center': 'Price'}>],\n",
       "       [<Axes: title={'center': 'Brand_ID'}>,\n",
       "        <Axes: title={'center': 'Model_ID'}>,\n",
       "        <Axes: title={'center': 'Fuel_Type_ID'}>],\n",
       "       [<Axes: title={'center': 'Transmission_ID'}>, <Axes: >, <Axes: >]],\n",
       "      dtype=object)"
      ]
     },
     "execution_count": 23,
     "metadata": {},
     "output_type": "execute_result"
    },
    {
     "data": {
      "image/png": "[encoded data removed]",
      "text/plain": [
       "<Figure size 1500x1500 with 12 Axes>"
      ]
     },
     "metadata": {},
     "output_type": "display_data"
    }
   ],
   "source": [
    "data.hist(figsize = [15, 15])"
   ]
  },
  {
   "cell_type": "markdown",
   "id": "b889fedd-8dae-4df5-b89f-4dfe9170f964",
   "metadata": {},
   "source": [
    "As we can see, each car is depicted with 10 features, out of which, we are most interested in the price."
   ]
  },
  {
   "cell_type": "markdown",
   "id": "4e93b0e5-355b-4b6a-86a8-17f3d052224b",
   "metadata": {},
   "source": [
    "## Data Selection and Preprocessing"
   ]
  },
  {
   "cell_type": "code",
   "execution_count": 27,
   "id": "1ef23e62-99ef-4054-b2f0-01022eb6dac6",
   "metadata": {},
   "outputs": [],
   "source": [
    "y = data['Price']\n",
    "x = data.drop(columns = ['Price', 'Brand', 'Model', 'Fuel_Type', 'Transmission'])"
   ]
  },
  {
   "cell_type": "code",
   "execution_count": 29,
   "id": "370ee6fa-631f-4fd8-87b5-aa52c91a06ee",
   "metadata": {},
   "outputs": [],
   "source": [
    "x_train, x_test, y_train, y_test = model_selection.train_test_split(x, y, test_size = 0.2, random_state = 25)"
   ]
  },
  {
   "cell_type": "code",
   "execution_count": 31,
   "id": "9285c0d9-54cb-46a5-8a07-23164319bbd0",
   "metadata": {},
   "outputs": [],
   "source": [
    "scaler = preprocessing.StandardScaler()\n",
    "scaler.fit(x_train)\n",
    "x_train = scaler.transform(x_train)\n",
    "x_test = scaler.transform(x_test)"
   ]
  },
  {
   "cell_type": "markdown",
   "id": "697b8d14-06b0-4755-9cf2-3c73d58f4633",
   "metadata": {},
   "source": [
    "## Model training"
   ]
  },
  {
   "cell_type": "code",
   "execution_count": 34,
   "id": "5f07a59d-f21e-4541-b71b-1b80f9721839",
   "metadata": {},
   "outputs": [
    {
     "data": {
      "text/html": [
       "<style>#sk-container-id-1 {color: black;}#sk-container-id-1 pre{padding: 0;}#sk-container-id-1 div.sk-toggleable {background-color: white;}#sk-container-id-1 label.sk-toggleable__label {cursor: pointer;display: block;width: 100%;margin-bottom: 0;padding: 0.3em;box-sizing: border-box;text-align: center;}#sk-container-id-1 label.sk-toggleable__label-arrow:before {content: \"▸\";float: left;margin-right: 0.25em;color: #696969;}#sk-container-id-1 label.sk-toggleable__label-arrow:hover:before {color: black;}#sk-container-id-1 div.sk-estimator:hover label.sk-toggleable__label-arrow:before {color: black;}#sk-container-id-1 div.sk-toggleable__content {max-height: 0;max-width: 0;overflow: hidden;text-align: left;background-color: #f0f8ff;}#sk-container-id-1 div.sk-toggleable__content pre {margin: 0.2em;color: black;border-radius: 0.25em;background-color: #f0f8ff;}#sk-container-id-1 input.sk-toggleable__control:checked~div.sk-toggleable__content {max-height: 200px;max-width: 100%;overflow: auto;}#sk-container-id-1 input.sk-toggleable__control:checked~label.sk-toggleable__label-arrow:before {content: \"▾\";}#sk-container-id-1 div.sk-estimator input.sk-toggleable__control:checked~label.sk-toggleable__label {background-color: #d4ebff;}#sk-container-id-1 div.sk-label input.sk-toggleable__control:checked~label.sk-toggleable__label {background-color: #d4ebff;}#sk-container-id-1 input.sk-hidden--visually {border: 0;clip: rect(1px 1px 1px 1px);clip: rect(1px, 1px, 1px, 1px);height: 1px;margin: -1px;overflow: hidden;padding: 0;position: absolute;width: 1px;}#sk-container-id-1 div.sk-estimator {font-family: monospace;background-color: #f0f8ff;border: 1px dotted black;border-radius: 0.25em;box-sizing: border-box;margin-bottom: 0.5em;}#sk-container-id-1 div.sk-estimator:hover {background-color: #d4ebff;}#sk-container-id-1 div.sk-parallel-item::after {content: \"\";width: 100%;border-bottom: 1px solid gray;flex-grow: 1;}#sk-container-id-1 div.sk-label:hover label.sk-toggleable__label {background-color: #d4ebff;}#sk-container-id-1 div.sk-serial::before {content: \"\";position: absolute;border-left: 1px solid gray;box-sizing: border-box;top: 0;bottom: 0;left: 50%;z-index: 0;}#sk-container-id-1 div.sk-serial {display: flex;flex-direction: column;align-items: center;background-color: white;padding-right: 0.2em;padding-left: 0.2em;position: relative;}#sk-container-id-1 div.sk-item {position: relative;z-index: 1;}#sk-container-id-1 div.sk-parallel {display: flex;align-items: stretch;justify-content: center;background-color: white;position: relative;}#sk-container-id-1 div.sk-item::before, #sk-container-id-1 div.sk-parallel-item::before {content: \"\";position: absolute;border-left: 1px solid gray;box-sizing: border-box;top: 0;bottom: 0;left: 50%;z-index: -1;}#sk-container-id-1 div.sk-parallel-item {display: flex;flex-direction: column;z-index: 1;position: relative;background-color: white;}#sk-container-id-1 div.sk-parallel-item:first-child::after {align-self: flex-end;width: 50%;}#sk-container-id-1 div.sk-parallel-item:last-child::after {align-self: flex-start;width: 50%;}#sk-container-id-1 div.sk-parallel-item:only-child::after {width: 0;}#sk-container-id-1 div.sk-dashed-wrapped {border: 1px dashed gray;margin: 0 0.4em 0.5em 0.4em;box-sizing: border-box;padding-bottom: 0.4em;background-color: white;}#sk-container-id-1 div.sk-label label {font-family: monospace;font-weight: bold;display: inline-block;line-height: 1.2em;}#sk-container-id-1 div.sk-label-container {text-align: center;}#sk-container-id-1 div.sk-container {/* jupyter's `normalize.less` sets `[hidden] { display: none; }` but bootstrap.min.css set `[hidden] { display: none !important; }` so we also need the `!important` here to be able to override the default hidden behavior on the sphinx rendered scikit-learn.org. See: https://github.com/scikit-learn/scikit-learn/issues/21755 */display: inline-block !important;position: relative;}#sk-container-id-1 div.sk-text-repr-fallback {display: none;}</style><div id=\"sk-container-id-1\" class=\"sk-top-container\"><div class=\"sk-text-repr-fallback\"><pre>LinearRegression()</pre><b>In a Jupyter environment, please rerun this cell to show the HTML representation or trust the notebook. <br />On GitHub, the HTML representation is unable to render, please try loading this page with nbviewer.org.</b></div><div class=\"sk-container\" hidden><div class=\"sk-item\"><div class=\"sk-estimator sk-toggleable\"><input class=\"sk-toggleable__control sk-hidden--visually\" id=\"sk-estimator-id-1\" type=\"checkbox\" checked><label for=\"sk-estimator-id-1\" class=\"sk-toggleable__label sk-toggleable__label-arrow\">LinearRegression</label><div class=\"sk-toggleable__content\"><pre>LinearRegression()</pre></div></div></div></div></div>"
      ],
      "text/plain": [
       "LinearRegression()"
      ]
     },
     "execution_count": 34,
     "metadata": {},
     "output_type": "execute_result"
    }
   ],
   "source": [
    "model1 = linear_model.LinearRegression()\n",
    "model1.fit(x_train, y_train)"
   ]
  },
  {
   "cell_type": "code",
   "execution_count": 36,
   "id": "b250d5e3-12ac-4460-8d8b-65315f73a046",
   "metadata": {},
   "outputs": [
    {
     "name": "stdout",
     "output_type": "stream",
     "text": [
      "Year 2056.5201562759403\n",
      "Engine_Size 1141.521838256496\n",
      "Mileage -1718.4676027578403\n",
      "Doors -14.362537966429034\n",
      "Owner_Count 20.514312484077678\n",
      "Brand_ID 10.91112903035849\n",
      "Model_ID -4.374686914242959\n",
      "Fuel_Type_ID 131.21273905230908\n",
      "Transmission_ID -1.6402815122132972\n",
      "8871.851874999988\n"
     ]
    }
   ],
   "source": [
    "column_names = x.keys().tolist()\n",
    "for feature, coef in zip(column_names, model1.coef_.ravel()):\n",
    "    print(feature, coef)\n",
    "print(model1.intercept_)"
   ]
  },
  {
   "cell_type": "markdown",
   "id": "b123b8e0-52fa-47bc-83ef-f0c9849946a7",
   "metadata": {},
   "source": [
    "## Evaluation"
   ]
  },
  {
   "cell_type": "code",
   "execution_count": 39,
   "id": "c1460029-0121-4688-a05d-00ac8ed18802",
   "metadata": {},
   "outputs": [],
   "source": [
    "y_predicted = model1.predict(x_test)\n",
    "\n",
    "mse = metrics.mean_squared_error(y_test, y_predicted)\n",
    "r2score = metrics.r2_score(y_test, y_predicted)"
   ]
  },
  {
   "cell_type": "code",
   "execution_count": 41,
   "id": "1aa89b91-b04a-488a-a819-6c773abc0a6c",
   "metadata": {},
   "outputs": [
    {
     "name": "stdout",
     "output_type": "stream",
     "text": [
      "Mean square error: 1219149.5955088665\n",
      "R2 score: 0.875918102250288\n"
     ]
    }
   ],
   "source": [
    "print('Mean square error:',mse)\n",
    "print('R2 score:', r2score)"
   ]
  },
  {
   "cell_type": "markdown",
   "id": "bbdee980-7d64-4bc6-a59b-575bddaffb2f",
   "metadata": {},
   "source": [
    "We see that the *R2* score is relatively good i.e. the model explains 87.6% of variance. In practice, this is considered to be a good model."
   ]
  },
  {
   "cell_type": "markdown",
   "id": "ff31e9be-c5af-4079-89be-019afc8a8b84",
   "metadata": {},
   "source": [
    "## Feature Analysis"
   ]
  },
  {
   "cell_type": "markdown",
   "id": "79fc5d02-6bfd-4df5-a4b6-a71b0623eaaa",
   "metadata": {},
   "source": [
    "Let us calculate the correlation between car features and car prices:"
   ]
  },
  {
   "cell_type": "code",
   "execution_count": 46,
   "id": "a1fe6b41-d726-4d82-9bab-eb67f6ee33ad",
   "metadata": {},
   "outputs": [
    {
     "name": "stdout",
     "output_type": "stream",
     "text": [
      "Year 0.6630358185023508\n",
      "Engine_Size 0.3574034753558664\n",
      "Mileage -0.5512271827629015\n",
      "Doors 0.0005114988177188558\n",
      "Owner_Count 0.002656399406563445\n",
      "Brand_ID -0.02336524980533333\n",
      "Model_ID 0.003191841390375511\n",
      "Fuel_Type_ID 0.03390034152637736\n",
      "Transmission_ID -0.011730209586111867\n"
     ]
    }
   ],
   "source": [
    "correlation_coefs = []\n",
    "\n",
    "for feature in column_names:\n",
    "    corr_coef = np.corrcoef(x[feature].values, y)[0, 1]\n",
    "    correlation_coefs.append(corr_coef)\n",
    "    print(feature, corr_coef)"
   ]
  },
  {
   "cell_type": "code",
   "execution_count": 48,
   "id": "e9340898-1afa-4faa-9188-923866b88146",
   "metadata": {},
   "outputs": [
    {
     "data": {
      "text/plain": [
       "[]"
      ]
     },
     "execution_count": 48,
     "metadata": {},
     "output_type": "execute_result"
    },
    {
     "data": {
      "image/png": "[encoded data removed]",
      "text/plain": [
       "<Figure size 640x480 with 1 Axes>"
      ]
     },
     "metadata": {},
     "output_type": "display_data"
    }
   ],
   "source": [
    "coefs_for_plot = pd.Series(correlation_coefs).sort_values()\n",
    "coefs_for_plot.plot(kind=\"barh\", color='red')\n",
    "\n",
    "label_list = [column_names[i] for i in coefs_for_plot.index.tolist()]\n",
    "\n",
    "plt.title(\"Correlation of features and prices\")\n",
    "plt.ylabel('Feature name')\n",
    "plt.xlabel('Correlation coefficient value')\n",
    "plt.yticks(ticks = np.arange(len(column_names)),\n",
    "           labels = label_list)\n",
    "plt.plot()"
   ]
  },
  {
   "cell_type": "markdown",
   "id": "d99b8594-c8fc-4d75-93f2-d4c6d51b3fed",
   "metadata": {},
   "source": [
    "As expected `Brand_ID`, `Model_ID`, `Fuel_Type_ID` and `Transmission_ID` do not correlate well with the price since we have obtained those values by simply categorifying the data. On the other hand, we see that `Doors` and `Owner_Count` do not play a significant role in determining the price, while `Year`, `Mileage` and `Engine_Size` do. Additionally, we see that `Mileage` is negatively correlated with the price, meaning that the greater the mileage is, the lower the price will be, which can be deduced from real life experience as well."
   ]
  },
  {
   "cell_type": "markdown",
   "id": "bd21df10-61ad-478f-8c3e-bbac0007dd9b",
   "metadata": {},
   "source": [
    "Additionally, we can see how features correlate to each other."
   ]
  },
  {
   "cell_type": "code",
   "execution_count": 52,
   "id": "44f576ce-6c6d-4529-8fee-74cde262149a",
   "metadata": {},
   "outputs": [
    {
     "data": {
      "text/html": [
       "<div>\n",
       "<style scoped>\n",
       "    .dataframe tbody tr th:only-of-type {\n",
       "        vertical-align: middle;\n",
       "    }\n",
       "\n",
       "    .dataframe tbody tr th {\n",
       "        vertical-align: top;\n",
       "    }\n",
       "\n",
       "    .dataframe thead th {\n",
       "        text-align: right;\n",
       "    }\n",
       "</style>\n",
       "<table border=\"1\" class=\"dataframe\">\n",
       "  <thead>\n",
       "    <tr style=\"text-align: right;\">\n",
       "      <th></th>\n",
       "      <th>Year</th>\n",
       "      <th>Engine_Size</th>\n",
       "      <th>Mileage</th>\n",
       "      <th>Doors</th>\n",
       "      <th>Owner_Count</th>\n",
       "      <th>Brand_ID</th>\n",
       "      <th>Model_ID</th>\n",
       "      <th>Fuel_Type_ID</th>\n",
       "      <th>Transmission_ID</th>\n",
       "    </tr>\n",
       "  </thead>\n",
       "  <tbody>\n",
       "    <tr>\n",
       "      <th>Year</th>\n",
       "      <td>1.000000</td>\n",
       "      <td>-0.001306</td>\n",
       "      <td>-0.002476</td>\n",
       "      <td>0.014867</td>\n",
       "      <td>0.000116</td>\n",
       "      <td>-0.015241</td>\n",
       "      <td>0.001921</td>\n",
       "      <td>-0.005390</td>\n",
       "      <td>-0.002728</td>\n",
       "    </tr>\n",
       "    <tr>\n",
       "      <th>Engine_Size</th>\n",
       "      <td>-0.001306</td>\n",
       "      <td>1.000000</td>\n",
       "      <td>0.015135</td>\n",
       "      <td>-0.009844</td>\n",
       "      <td>0.007122</td>\n",
       "      <td>-0.019240</td>\n",
       "      <td>-0.001495</td>\n",
       "      <td>-0.003310</td>\n",
       "      <td>-0.006457</td>\n",
       "    </tr>\n",
       "    <tr>\n",
       "      <th>Mileage</th>\n",
       "      <td>-0.002476</td>\n",
       "      <td>0.015135</td>\n",
       "      <td>1.000000</td>\n",
       "      <td>0.007879</td>\n",
       "      <td>0.006287</td>\n",
       "      <td>0.012271</td>\n",
       "      <td>-0.005319</td>\n",
       "      <td>0.005715</td>\n",
       "      <td>0.012795</td>\n",
       "    </tr>\n",
       "    <tr>\n",
       "      <th>Doors</th>\n",
       "      <td>0.014867</td>\n",
       "      <td>-0.009844</td>\n",
       "      <td>0.007879</td>\n",
       "      <td>1.000000</td>\n",
       "      <td>-0.005431</td>\n",
       "      <td>-0.002426</td>\n",
       "      <td>-0.005252</td>\n",
       "      <td>0.010120</td>\n",
       "      <td>0.003452</td>\n",
       "    </tr>\n",
       "    <tr>\n",
       "      <th>Owner_Count</th>\n",
       "      <td>0.000116</td>\n",
       "      <td>0.007122</td>\n",
       "      <td>0.006287</td>\n",
       "      <td>-0.005431</td>\n",
       "      <td>1.000000</td>\n",
       "      <td>-0.017239</td>\n",
       "      <td>-0.013620</td>\n",
       "      <td>0.000563</td>\n",
       "      <td>0.008294</td>\n",
       "    </tr>\n",
       "    <tr>\n",
       "      <th>Brand_ID</th>\n",
       "      <td>-0.015241</td>\n",
       "      <td>-0.019240</td>\n",
       "      <td>0.012271</td>\n",
       "      <td>-0.002426</td>\n",
       "      <td>-0.017239</td>\n",
       "      <td>1.000000</td>\n",
       "      <td>0.295824</td>\n",
       "      <td>0.011738</td>\n",
       "      <td>0.013858</td>\n",
       "    </tr>\n",
       "    <tr>\n",
       "      <th>Model_ID</th>\n",
       "      <td>0.001921</td>\n",
       "      <td>-0.001495</td>\n",
       "      <td>-0.005319</td>\n",
       "      <td>-0.005252</td>\n",
       "      <td>-0.013620</td>\n",
       "      <td>0.295824</td>\n",
       "      <td>1.000000</td>\n",
       "      <td>0.012817</td>\n",
       "      <td>0.000086</td>\n",
       "    </tr>\n",
       "    <tr>\n",
       "      <th>Fuel_Type_ID</th>\n",
       "      <td>-0.005390</td>\n",
       "      <td>-0.003310</td>\n",
       "      <td>0.005715</td>\n",
       "      <td>0.010120</td>\n",
       "      <td>0.000563</td>\n",
       "      <td>0.011738</td>\n",
       "      <td>0.012817</td>\n",
       "      <td>1.000000</td>\n",
       "      <td>-0.003183</td>\n",
       "    </tr>\n",
       "    <tr>\n",
       "      <th>Transmission_ID</th>\n",
       "      <td>-0.002728</td>\n",
       "      <td>-0.006457</td>\n",
       "      <td>0.012795</td>\n",
       "      <td>0.003452</td>\n",
       "      <td>0.008294</td>\n",
       "      <td>0.013858</td>\n",
       "      <td>0.000086</td>\n",
       "      <td>-0.003183</td>\n",
       "      <td>1.000000</td>\n",
       "    </tr>\n",
       "  </tbody>\n",
       "</table>\n",
       "</div>"
      ],
      "text/plain": [
       "                     Year  Engine_Size   Mileage     Doors  Owner_Count  \\\n",
       "Year             1.000000    -0.001306 -0.002476  0.014867     0.000116   \n",
       "Engine_Size     -0.001306     1.000000  0.015135 -0.009844     0.007122   \n",
       "Mileage         -0.002476     0.015135  1.000000  0.007879     0.006287   \n",
       "Doors            0.014867    -0.009844  0.007879  1.000000    -0.005431   \n",
       "Owner_Count      0.000116     0.007122  0.006287 -0.005431     1.000000   \n",
       "Brand_ID        -0.015241    -0.019240  0.012271 -0.002426    -0.017239   \n",
       "Model_ID         0.001921    -0.001495 -0.005319 -0.005252    -0.013620   \n",
       "Fuel_Type_ID    -0.005390    -0.003310  0.005715  0.010120     0.000563   \n",
       "Transmission_ID -0.002728    -0.006457  0.012795  0.003452     0.008294   \n",
       "\n",
       "                 Brand_ID  Model_ID  Fuel_Type_ID  Transmission_ID  \n",
       "Year            -0.015241  0.001921     -0.005390        -0.002728  \n",
       "Engine_Size     -0.019240 -0.001495     -0.003310        -0.006457  \n",
       "Mileage          0.012271 -0.005319      0.005715         0.012795  \n",
       "Doors           -0.002426 -0.005252      0.010120         0.003452  \n",
       "Owner_Count     -0.017239 -0.013620      0.000563         0.008294  \n",
       "Brand_ID         1.000000  0.295824      0.011738         0.013858  \n",
       "Model_ID         0.295824  1.000000      0.012817         0.000086  \n",
       "Fuel_Type_ID     0.011738  0.012817      1.000000        -0.003183  \n",
       "Transmission_ID  0.013858  0.000086     -0.003183         1.000000  "
      ]
     },
     "execution_count": 52,
     "metadata": {},
     "output_type": "execute_result"
    }
   ],
   "source": [
    "x.corr()"
   ]
  },
  {
   "cell_type": "markdown",
   "id": "4b39e9ce-d2ba-4b97-86d2-35b2560f983b",
   "metadata": {},
   "source": [
    "This can also be seen graphically"
   ]
  },
  {
   "cell_type": "code",
   "execution_count": 55,
   "id": "617932e9-04a7-4696-b704-ab05591ecbde",
   "metadata": {},
   "outputs": [
    {
     "data": {
      "image/png": "[encoded data removed]",
      "text/plain": [
       "<Figure size 600x600 with 2 Axes>"
      ]
     },
     "metadata": {},
     "output_type": "display_data"
    }
   ],
   "source": [
    "plt.figure(figsize=(6, 6))\n",
    "plt.xticks(range(len(column_names)), column_names, rotation='vertical')\n",
    "plt.yticks(range(len(column_names)), column_names)\n",
    "plt.imshow(x.corr(), cmap='ocean')\n",
    "plt.colorbar()\n",
    "plt.show()"
   ]
  },
  {
   "cell_type": "markdown",
   "id": "235adaa0-2683-4873-92f8-629754e27427",
   "metadata": {},
   "source": [
    "One can observe that there is slight correlation between `Brand_ID` and `Model_ID` which is to be expected. What is more surprising is that correlation between other features is relatively low. One would expect a noticeable correlation between `Year` and `Mileage` for example, but the data shows that it is not the case."
   ]
  },
  {
   "cell_type": "code",
   "execution_count": null,
   "id": "968829ab-2e33-498d-8e76-02b5839e3726",
   "metadata": {},
   "outputs": [],
   "source": []
  }
 ],
 "metadata": {
  "kernelspec": {
   "display_name": "Python 3 (ipykernel)",
   "language": "python",
   "name": "python3"
  },
  "language_info": {
   "codemirror_mode": {
    "name": "ipython",
    "version": 3
   },
   "file_extension": ".py",
   "mimetype": "text/x-python",
   "name": "python",
   "nbconvert_exporter": "python",
   "pygments_lexer": "ipython3",
   "version": "3.12.4"
  }
 },
 "nbformat": 4,
 "nbformat_minor": 5
}

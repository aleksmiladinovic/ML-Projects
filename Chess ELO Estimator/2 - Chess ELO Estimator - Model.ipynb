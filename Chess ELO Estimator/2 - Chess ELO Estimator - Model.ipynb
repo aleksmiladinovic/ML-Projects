{
 "cells": [
  {
   "cell_type": "markdown",
   "id": "475db653-c96a-4110-bb57-b8cfb98b319e",
   "metadata": {},
   "source": [
    "# Chess ELO Estimator\n",
    "\n",
    "In this notebook we will build the neural network which would estimate the ELO rating of a player based on the games played against various opponents. As usual, we will start by first including the necessary libraries for work."
   ]
  },
  {
   "cell_type": "code",
   "execution_count": 2,
   "id": "31eff18c-0797-4e5f-9c65-31bae1f5a7ec",
   "metadata": {},
   "outputs": [],
   "source": [
    "import numpy as np\n",
    "import pickle\n",
    "import matplotlib.pyplot as plt\n",
    "\n",
    "from sklearn import model_selection\n",
    "from sklearn import preprocessing\n",
    "\n",
    "import torch\n",
    "from torch import nn\n",
    "from torch.optim import Adam\n",
    "from torch.utils.data import DataLoader, TensorDataset"
   ]
  },
  {
   "cell_type": "code",
   "execution_count": 4,
   "id": "b663b083-fae5-4b24-acd6-e1ca0f7fe027",
   "metadata": {},
   "outputs": [],
   "source": [
    "np.random.seed(25)\n",
    "torch.manual_seed(25)\n",
    "if torch.cuda.is_available():\n",
    "    torch.cuda.manual_seed_all(25)"
   ]
  },
  {
   "cell_type": "code",
   "execution_count": 6,
   "id": "b8d0df61-15b7-4ae0-9a64-72eb75febe76",
   "metadata": {},
   "outputs": [],
   "source": [
    "def get_device():\n",
    "    if torch.cuda.is_available():\n",
    "        d = 'cuda'\n",
    "    else:\n",
    "        d = 'cpu'\n",
    "    return torch.device(d)\n",
    "\n",
    "\n",
    "def bind_gpu(data):\n",
    "    d = get_device()\n",
    "    if isinstance(data, (list, tuple)):\n",
    "        return [bind_gpu(data_elem) for data_elem in data]\n",
    "    return data.to(d, non_blocking=True)"
   ]
  },
  {
   "cell_type": "markdown",
   "id": "8b7d8824-37ba-456a-906e-746c96c87fce",
   "metadata": {},
   "source": [
    "## Uploading data\n",
    "\n",
    "In the last notebook we have prepared the data and wrote it into the file \"ChessData.aca\". We are going to use this data for our work."
   ]
  },
  {
   "cell_type": "markdown",
   "id": "cd84ab18-72de-4843-983b-9acc41d1a700",
   "metadata": {},
   "source": [
    "There has been one thing left to address. For our model we will consider a player with at least 10 games played, and will consider the first 10 games that player has played. The rating of a player changes with every game played, therefore it was not the same before playing certain amount of games as well as it will change after the next game is finished, hence, the number of games considered should be as small as possible. On the other hand, in order for our model to be successful, we need a substantial number of games played in order for our model to give meaningful results. Therefore, a compromise should be made, hence, we consider the first 10 games played."
   ]
  },
  {
   "cell_type": "markdown",
   "id": "4a791900-e888-4bdf-a554-2a79a86e1919",
   "metadata": {},
   "source": [
    "An interested reader can reduce or increase the number of games played and compare the results."
   ]
  },
  {
   "cell_type": "code",
   "execution_count": 11,
   "id": "a05de0f6-f43b-4b85-9fe5-560a9c8a1c36",
   "metadata": {},
   "outputs": [],
   "source": [
    "with open('ChessData.aca','rb') as f:\n",
    "    player_count = pickle.load(f)\n",
    "    player_names = pickle.load(f)\n",
    "    player_ids = pickle.load(f)\n",
    "    matches = pickle.load(f)\n",
    "    elos = pickle.load(f)"
   ]
  },
  {
   "cell_type": "code",
   "execution_count": 13,
   "id": "e51acfc4-29fb-4fdc-b014-880e07d98cc5",
   "metadata": {},
   "outputs": [],
   "source": [
    "game_limit = 10\n",
    "\n",
    "x = []\n",
    "y = []\n",
    "\n",
    "for i in range(player_count):\n",
    "    if len(matches[i]) >= game_limit:\n",
    "        element = [matches[i][j][1]*10000 + matches[i][j][0] for j in range(game_limit)]\n",
    "        x.append(element)\n",
    "        y.append(elos[i])"
   ]
  },
  {
   "cell_type": "markdown",
   "id": "4ac468d4-aab5-4fae-aa95-2550c24afe8b",
   "metadata": {},
   "source": [
    "## Preprocessing data"
   ]
  },
  {
   "cell_type": "code",
   "execution_count": 16,
   "id": "ffb05666-de65-4d65-8f60-1b8145806aec",
   "metadata": {},
   "outputs": [
    {
     "name": "stdout",
     "output_type": "stream",
     "text": [
      "x_train size:  (20745, 10)\n",
      "y_train size:  20745\n",
      "x_valid size:  (2305, 10)\n",
      "y_valid size:  2305\n",
      "x_test size:  (5763, 10)\n",
      "y_test size:  5763\n"
     ]
    }
   ],
   "source": [
    "x = np.array(x)\n",
    "y = np.array(y)\n",
    "\n",
    "x_train_valid, x_test, y_train_valid, y_test = model_selection.train_test_split(x, y, test_size=0.2, random_state=25)\n",
    "x_train, x_valid, y_train, y_valid = model_selection.train_test_split(x_train_valid, y_train_valid, test_size=0.1, random_state=25)\n",
    "\n",
    "print('x_train size: ', x_train.shape)\n",
    "print('y_train size: ', y_train.size)\n",
    "print('x_valid size: ', x_valid.shape)\n",
    "print('y_valid size: ', y_valid.size)\n",
    "print('x_test size: ', x_test.shape)\n",
    "print('y_test size: ', y_test.size)"
   ]
  },
  {
   "cell_type": "code",
   "execution_count": 18,
   "id": "b0933a81-c889-4d2d-b287-d8e8502c3eb5",
   "metadata": {},
   "outputs": [],
   "source": [
    "scaler = preprocessing.StandardScaler()\n",
    "scaler.fit(x_train)\n",
    "\n",
    "x_train = scaler.transform(x_train)\n",
    "x_valid = scaler.transform(x_valid)\n",
    "x_test = scaler.transform(x_test)"
   ]
  },
  {
   "cell_type": "code",
   "execution_count": 20,
   "id": "7867c540-3a63-472d-9855-5d9c6e71cdd7",
   "metadata": {},
   "outputs": [],
   "source": [
    "x_train, y_train = torch.FloatTensor(x_train), torch.FloatTensor(y_train)\n",
    "train_data = TensorDataset(x_train, y_train)\n",
    "train_loader = DataLoader(train_data, batch_size=32, shuffle=True)\n",
    "\n",
    "x_valid, y_valid = torch.FloatTensor(x_valid), torch.FloatTensor(y_valid)\n",
    "valid_data = TensorDataset(x_valid, y_valid)\n",
    "valid_loader = DataLoader(valid_data, batch_size=32, shuffle=True)\n",
    "\n",
    "x_test, y_test = torch.FloatTensor(x_test), torch.FloatTensor(y_test)\n",
    "test_data = TensorDataset(x_test, y_test)\n",
    "test_loader = DataLoader(test_data, batch_size=32, shuffle=True)"
   ]
  },
  {
   "cell_type": "markdown",
   "id": "0a88f981-6721-463c-b434-b8323482d80a",
   "metadata": {},
   "source": [
    "## Creation of the Neural Network\n",
    "\n",
    "The input of our Neural Network will be a vector of size `game_limit`. We will use `ReLu` as activation function."
   ]
  },
  {
   "cell_type": "code",
   "execution_count": 23,
   "id": "d7beb2a7-567d-4915-9743-bed630f3b7bc",
   "metadata": {},
   "outputs": [],
   "source": [
    "number_of_features = game_limit\n",
    "output_size = 1"
   ]
  },
  {
   "cell_type": "code",
   "execution_count": 25,
   "id": "5e610f3c-6472-4a89-a459-35d7e6f565d8",
   "metadata": {},
   "outputs": [],
   "source": [
    "class EloEstimator(nn.Module):\n",
    "    def __init__(self, number_of_features, output_size):\n",
    "        super(EloEstimator, self).__init__()\n",
    "        layers = [\n",
    "            nn.Linear(number_of_features, 100),\n",
    "            nn.ReLU(),\n",
    "            nn.Linear(100, output_size)\n",
    "        ]\n",
    "        self.model = nn.Sequential(*layers)\n",
    "\n",
    "    def forward(self, games_played):\n",
    "        return self.model(games_played)"
   ]
  },
  {
   "cell_type": "markdown",
   "id": "99094d47-2033-43bf-95b1-8e65f7c1e943",
   "metadata": {},
   "source": [
    "## Training the Network\n",
    "\n",
    "As the loss function we will be using the mean absolute error function."
   ]
  },
  {
   "cell_type": "code",
   "execution_count": 28,
   "id": "f39aaa03-4a14-4167-8d80-6292ec963fd2",
   "metadata": {},
   "outputs": [],
   "source": [
    "device = get_device()\n",
    "model = EloEstimator(number_of_features, output_size)\n",
    "model.to(device)\n",
    "\n",
    "number_of_epochs = 15\n",
    "\n",
    "optimizer = Adam(params= model.parameters())\n",
    "train_mae_by_epochs = []\n",
    "valid_mae_by_epochs = []\n",
    "\n",
    "for epoch in range(number_of_epochs):\n",
    "    epoch_train_mae, train_samples = 0, 0\n",
    "    epoch_valid_mae, valid_samples = 0, 0\n",
    "\n",
    "    model.train()\n",
    "    for inputs, labels in train_loader:\n",
    "        inputs, labels = inputs.to(device), labels.to(device)\n",
    "        batch_size = inputs.size(0)\n",
    "\n",
    "        optimizer.zero_grad()\n",
    "\n",
    "        predictions = model(inputs).squeeze()\n",
    "        mae = (predictions - labels).abs().mean()\n",
    "\n",
    "        mae.backward()\n",
    "        optimizer.step()\n",
    "\n",
    "        epoch_train_mae += mae.item() * batch_size\n",
    "        train_samples += batch_size\n",
    "\n",
    "    model.eval()\n",
    "    with torch.no_grad():\n",
    "        for inputs, labels in valid_loader:\n",
    "            inputs, labels = inputs.to(device), labels.to(device)\n",
    "            batch_size = inputs.size(0)\n",
    "\n",
    "            predictions = model(inputs).squeeze()\n",
    "            mae = (predictions - labels).abs().mean()\n",
    "\n",
    "            epoch_valid_mae += mae.item() * batch_size\n",
    "            valid_samples += batch_size\n",
    "\n",
    "    avg_train_mae = epoch_train_mae / train_samples\n",
    "    avg_valid_mae = epoch_valid_mae / valid_samples\n",
    "\n",
    "    train_mae_by_epochs.append(avg_train_mae)\n",
    "    valid_mae_by_epochs.append(avg_valid_mae)"
   ]
  },
  {
   "cell_type": "markdown",
   "id": "42d31031-f63e-4933-9023-5429d1499067",
   "metadata": {},
   "source": [
    "Now, we can display and visualize the loss function on training and validation set."
   ]
  },
  {
   "cell_type": "code",
   "execution_count": 31,
   "id": "001a08e4-628a-4359-8f7f-92ced3db8942",
   "metadata": {},
   "outputs": [
    {
     "name": "stdout",
     "output_type": "stream",
     "text": [
      "Epoch [1/15], Train mae: 1627.8165\n",
      "Epoch [2/15], Train mae: 1346.4004\n",
      "Epoch [3/15], Train mae: 832.0463\n",
      "Epoch [4/15], Train mae: 367.9208\n",
      "Epoch [5/15], Train mae: 274.6239\n",
      "Epoch [6/15], Train mae: 270.4755\n",
      "Epoch [7/15], Train mae: 269.1957\n",
      "Epoch [8/15], Train mae: 268.3173\n",
      "Epoch [9/15], Train mae: 267.6174\n",
      "Epoch [10/15], Train mae: 266.9996\n",
      "Epoch [11/15], Train mae: 266.5814\n",
      "Epoch [12/15], Train mae: 266.1420\n",
      "Epoch [13/15], Train mae: 265.8460\n",
      "Epoch [14/15], Train mae: 265.5733\n",
      "Epoch [15/15], Train mae: 265.3676\n",
      "Epoch [1/15], Valid mae: 1541.9323\n",
      "Epoch [2/15], Valid mae: 1131.5122\n",
      "Epoch [3/15], Valid mae: 549.0655\n",
      "Epoch [4/15], Valid mae: 286.6407\n",
      "Epoch [5/15], Valid mae: 270.7394\n",
      "Epoch [6/15], Valid mae: 268.8930\n",
      "Epoch [7/15], Valid mae: 267.3877\n",
      "Epoch [8/15], Valid mae: 266.9384\n",
      "Epoch [9/15], Valid mae: 266.0698\n",
      "Epoch [10/15], Valid mae: 265.6412\n",
      "Epoch [11/15], Valid mae: 264.8877\n",
      "Epoch [12/15], Valid mae: 264.8098\n",
      "Epoch [13/15], Valid mae: 264.4045\n",
      "Epoch [14/15], Valid mae: 264.0860\n",
      "Epoch [15/15], Valid mae: 263.7759\n"
     ]
    }
   ],
   "source": [
    "for epoch in range(number_of_epochs):\n",
    "    print(f\"Epoch [{epoch + 1}/{number_of_epochs}], Train mae: {train_mae_by_epochs[epoch]:.4f}\")\n",
    "\n",
    "for epoch in range(number_of_epochs):\n",
    "    print(f\"Epoch [{epoch + 1}/{number_of_epochs}], Valid mae: {valid_mae_by_epochs[epoch]:.4f}\")"
   ]
  },
  {
   "cell_type": "code",
   "execution_count": 33,
   "id": "0cee308f-97b4-4a79-abb9-9affbfc970a0",
   "metadata": {},
   "outputs": [
    {
     "data": {
      "image/png": "[encoded data removed]",
      "text/plain": [
       "<Figure size 640x480 with 1 Axes>"
      ]
     },
     "metadata": {},
     "output_type": "display_data"
    }
   ],
   "source": [
    "plt.plot(np.arange(1,number_of_epochs+1), train_mae_by_epochs, label='Training MAE')\n",
    "plt.plot(np.arange(1,number_of_epochs+1), valid_mae_by_epochs, label='Validation MAE')\n",
    "plt.title('MAE over Epochs')\n",
    "plt.xlabel('Epoch')\n",
    "plt.ylabel('MAE')\n",
    "plt.legend()\n",
    "\n",
    "plt.tight_layout()\n",
    "plt.show()"
   ]
  },
  {
   "cell_type": "markdown",
   "id": "a77e36c9-3b93-4dca-a17b-ab535f2c74fb",
   "metadata": {},
   "source": [
    "## Evaluation of the Network"
   ]
  },
  {
   "cell_type": "code",
   "execution_count": 36,
   "id": "261d1bec-f32b-4f86-afaa-1bd2d23ad1b7",
   "metadata": {},
   "outputs": [
    {
     "name": "stdout",
     "output_type": "stream",
     "text": [
      "Test mae: 267.1726\n"
     ]
    }
   ],
   "source": [
    "test_mse = 0\n",
    "test_mae = 0\n",
    "test_samples = 0\n",
    "\n",
    "model.eval()\n",
    "\n",
    "with torch.no_grad():\n",
    "    for inputs, labels in test_loader:\n",
    "        inputs, labels = inputs.to(device), labels.to(device)\n",
    "        batch_size = inputs.size(0)\n",
    "\n",
    "        predictions = model(inputs).squeeze()\n",
    "        mae = (predictions - labels).abs().mean()\n",
    "\n",
    "        test_mae += mae.item() * batch_size\n",
    "        test_samples += batch_size\n",
    "        \n",
    "test_mae /= test_samples\n",
    "print(f\"Test mae: {test_mae:.4f}\")"
   ]
  },
  {
   "cell_type": "markdown",
   "id": "df3b145e-96a5-4f90-98ce-dea7d716c0d0",
   "metadata": {},
   "source": [
    "Let us see what is the average ELO rating of all the players considered."
   ]
  },
  {
   "cell_type": "code",
   "execution_count": 39,
   "id": "02f193d0-d4b3-45fb-a54c-05c92fa936b3",
   "metadata": {},
   "outputs": [
    {
     "name": "stdout",
     "output_type": "stream",
     "text": [
      "Average ELO rating of players considered: 1675.5060\n"
     ]
    }
   ],
   "source": [
    "total_rtg = 0\n",
    "num_of_players = 0\n",
    "\n",
    "for i in range(player_count):\n",
    "    if len(matches[i]) >= game_limit:\n",
    "        total_rtg += elos[i]\n",
    "        num_of_players += 1\n",
    "\n",
    "print(f\"Average ELO rating of players considered: {total_rtg/num_of_players:.4f}\")"
   ]
  },
  {
   "cell_type": "markdown",
   "id": "0bc4cd3e-c4ff-4b6c-8349-cd3a6b2829ba",
   "metadata": {},
   "source": [
    "## Conclusion\n",
    "\n",
    "As evident from the results, the mean absolute error is relatively high compared to the average rating of a player. That being said, the model does not give a precise estimation, but can still be usefull when determining a tier in which a player should be placed."
   ]
  },
  {
   "cell_type": "code",
   "execution_count": null,
   "id": "a158a096-31a6-4ac0-9a37-4ae7ca4360f7",
   "metadata": {},
   "outputs": [],
   "source": []
  }
 ],
 "metadata": {
  "kernelspec": {
   "display_name": "Python 3 (ipykernel)",
   "language": "python",
   "name": "python3"
  },
  "language_info": {
   "codemirror_mode": {
    "name": "ipython",
    "version": 3
   },
   "file_extension": ".py",
   "mimetype": "text/x-python",
   "name": "python",
   "nbconvert_exporter": "python",
   "pygments_lexer": "ipython3",
   "version": "3.12.4"
  }
 },
 "nbformat": 4,
 "nbformat_minor": 5
}

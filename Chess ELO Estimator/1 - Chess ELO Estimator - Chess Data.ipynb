{
 "cells": [
  {
   "cell_type": "markdown",
   "id": "fd431f2f-87de-4c35-8648-1fc3054cee94",
   "metadata": {},
   "source": [
    "# Preparing Chess Data"
   ]
  },
  {
   "cell_type": "markdown",
   "id": "f80e5028-b5e4-4ee5-b7f0-caeb457418d5",
   "metadata": {},
   "source": [
    "In this notebook we will prepare the data used as an input for the neural network in the following notebook. For this purpose, we will use the dataset from the [Kaggle](https://www.kaggle.com/) platform, which is available [here](https://www.kaggle.com/datasets/timhanewich/5-million-chess-game-results-november-2019/data). This dataset contains 5 million chess games and their details."
   ]
  },
  {
   "cell_type": "markdown",
   "id": "7b8863cc-e317-494e-bd13-b90e59fdd899",
   "metadata": {},
   "source": [
    "To start, we will first import the necessary libraries."
   ]
  },
  {
   "cell_type": "code",
   "execution_count": 4,
   "id": "2dfb2405-34fa-4a81-8f96-e4419b017d1f",
   "metadata": {},
   "outputs": [],
   "source": [
    "import pickle\n",
    "import pandas as pd\n",
    "import matplotlib.pyplot as plt\n",
    "import numpy as np"
   ]
  },
  {
   "cell_type": "markdown",
   "id": "68884ce6-20ee-4026-8479-edc0d4bf5bfe",
   "metadata": {},
   "source": [
    "For our task, we will only need player names, their ratings and outcomes of the games, hence, not all data will be used. Additionally, we will not use data of all of the games, since even the substancially lower number of games will suffice."
   ]
  },
  {
   "cell_type": "code",
   "execution_count": 7,
   "id": "c816b121-99bd-4809-bea8-9ddc54f34aa5",
   "metadata": {},
   "outputs": [],
   "source": [
    "limit = 500000\n",
    "\n",
    "data = pd.read_csv('chess games/November2019.csv', usecols = ['White', 'Black', 'Result', 'WhiteElo', 'BlackElo'], nrows = limit)"
   ]
  },
  {
   "cell_type": "code",
   "execution_count": 8,
   "id": "edd21d52-fe45-41fd-9908-2105f2a314e2",
   "metadata": {},
   "outputs": [
    {
     "data": {
      "text/html": [
       "<div>\n",
       "<style scoped>\n",
       "    .dataframe tbody tr th:only-of-type {\n",
       "        vertical-align: middle;\n",
       "    }\n",
       "\n",
       "    .dataframe tbody tr th {\n",
       "        vertical-align: top;\n",
       "    }\n",
       "\n",
       "    .dataframe thead th {\n",
       "        text-align: right;\n",
       "    }\n",
       "</style>\n",
       "<table border=\"1\" class=\"dataframe\">\n",
       "  <thead>\n",
       "    <tr style=\"text-align: right;\">\n",
       "      <th></th>\n",
       "      <th>White</th>\n",
       "      <th>Black</th>\n",
       "      <th>Result</th>\n",
       "      <th>WhiteElo</th>\n",
       "      <th>BlackElo</th>\n",
       "    </tr>\n",
       "  </thead>\n",
       "  <tbody>\n",
       "    <tr>\n",
       "      <th>0</th>\n",
       "      <td>e_0shams0</td>\n",
       "      <td>foxfless</td>\n",
       "      <td>1-0</td>\n",
       "      <td>1504</td>\n",
       "      <td>1505</td>\n",
       "    </tr>\n",
       "    <tr>\n",
       "      <th>1</th>\n",
       "      <td>Andrej1909</td>\n",
       "      <td>ewafx</td>\n",
       "      <td>0-1</td>\n",
       "      <td>1487</td>\n",
       "      <td>1485</td>\n",
       "    </tr>\n",
       "    <tr>\n",
       "      <th>2</th>\n",
       "      <td>Lassandra</td>\n",
       "      <td>Kaival145</td>\n",
       "      <td>1-0</td>\n",
       "      <td>1516</td>\n",
       "      <td>1523</td>\n",
       "    </tr>\n",
       "    <tr>\n",
       "      <th>3</th>\n",
       "      <td>Ayowole</td>\n",
       "      <td>vallar_morghullis</td>\n",
       "      <td>0-1</td>\n",
       "      <td>1682</td>\n",
       "      <td>1666</td>\n",
       "    </tr>\n",
       "    <tr>\n",
       "      <th>4</th>\n",
       "      <td>sochparov</td>\n",
       "      <td>HishamElalawy</td>\n",
       "      <td>1-0</td>\n",
       "      <td>1765</td>\n",
       "      <td>1766</td>\n",
       "    </tr>\n",
       "  </tbody>\n",
       "</table>\n",
       "</div>"
      ],
      "text/plain": [
       "        White              Black Result  WhiteElo  BlackElo\n",
       "0   e_0shams0           foxfless    1-0      1504      1505\n",
       "1  Andrej1909              ewafx    0-1      1487      1485\n",
       "2   Lassandra          Kaival145    1-0      1516      1523\n",
       "3     Ayowole  vallar_morghullis    0-1      1682      1666\n",
       "4   sochparov      HishamElalawy    1-0      1765      1766"
      ]
     },
     "execution_count": 8,
     "metadata": {},
     "output_type": "execute_result"
    }
   ],
   "source": [
    "data.head()"
   ]
  },
  {
   "cell_type": "markdown",
   "id": "4202ebb1-8884-4cab-ae9e-24061a487680",
   "metadata": {},
   "source": [
    "Next, for every player, we will make a list of his games, where we will store the ELO rating of his oponent and the outcome of the match. The elements of the list will be of the form *(opp_rtg, c)*, where *opp_rtg* will be the opponent rating, and *c* will be a number indicating the outcome. In particular, we will have *c=1* if the player had won the game, *c=-1* if he had lost, and *c=0* if the game was a draw."
   ]
  },
  {
   "cell_type": "code",
   "execution_count": 12,
   "id": "155e05fd-8db3-4b6e-ac40-789b82443009",
   "metadata": {},
   "outputs": [],
   "source": [
    "player_ids = {}\n",
    "player_count = 0\n",
    "elos = []\n",
    "matches = []\n",
    "player_names = []"
   ]
  },
  {
   "cell_type": "code",
   "execution_count": 14,
   "id": "f5e0a831-59a5-44b7-a3f2-be158076188d",
   "metadata": {},
   "outputs": [],
   "source": [
    "for i in range(len(data)):\n",
    "    elo1 = int(data.iloc[i,3])\n",
    "    name1 = data.iloc[i,0]\n",
    "    elo2 = int(data.iloc[i,4])\n",
    "    name2 = data.iloc[i,1]\n",
    "    outcome = data.iloc[i,2]\n",
    "\n",
    "    for name_elo in [(name1, elo1), (name2, elo2)]:\n",
    "        if player_ids.get(name_elo[0]) == None:\n",
    "            player_ids[name_elo[0]] = player_count\n",
    "            matches.append([])\n",
    "            elos.append(name_elo[1])\n",
    "            player_names.append(name_elo[0])\n",
    "            player_count += 1\n",
    "            \n",
    "    id1 = player_ids[name1]\n",
    "    id2 = player_ids[name2]\n",
    "    if outcome == '1-0':\n",
    "        matches[id1].append((elo2,1))\n",
    "        matches[id2].append((elo1,-1))\n",
    "    elif outcome == '0-1':\n",
    "        matches[id1].append((elo2,-1))\n",
    "        matches[id2].append((elo1,1))\n",
    "    else:\n",
    "        matches[id1].append((elo2,0))\n",
    "        matches[id2].append((elo1,0))"
   ]
  },
  {
   "cell_type": "code",
   "execution_count": 16,
   "id": "b87717fe-6b47-4db4-8237-bee200206ab3",
   "metadata": {},
   "outputs": [
    {
     "name": "stdout",
     "output_type": "stream",
     "text": [
      "Number of players is  157383\n"
     ]
    }
   ],
   "source": [
    "print('Number of players is ', player_count)"
   ]
  },
  {
   "cell_type": "markdown",
   "id": "4b1ad791-c092-4e8f-8f4d-b88fbddb6f27",
   "metadata": {},
   "source": [
    "We can see that it is now very easy to navigate through data. For example:"
   ]
  },
  {
   "cell_type": "code",
   "execution_count": 19,
   "id": "c2a4627f-76b2-456c-bb7d-7e67dc9873aa",
   "metadata": {},
   "outputs": [
    {
     "name": "stdout",
     "output_type": "stream",
     "text": [
      "Player name:  Cliff86\n",
      "Player rating:  1531\n",
      "Games played:\n",
      "[(1526, -1), (1347, 1), (1522, -1), (1229, -1), (1647, -1), (1297, -1)]\n"
     ]
    }
   ],
   "source": [
    "id = 10\n",
    "\n",
    "print('Player name: ', player_names[id])\n",
    "print('Player rating: ', elos[id])\n",
    "print('Games played:')\n",
    "print(matches[id])"
   ]
  },
  {
   "cell_type": "markdown",
   "id": "60579bae-a864-4e03-8ed7-0e49bd6f8773",
   "metadata": {},
   "source": [
    "Additionally, we can obtain more information on number of games played by one player."
   ]
  },
  {
   "cell_type": "code",
   "execution_count": 22,
   "id": "33298353-449d-4f0b-af4f-6fcdff06acb0",
   "metadata": {},
   "outputs": [
    {
     "name": "stdout",
     "output_type": "stream",
     "text": [
      "Player with maximum number of games played:  Burrower\n",
      "Number of games played:  336\n"
     ]
    }
   ],
   "source": [
    "max_matches = 0\n",
    "id_max = -1\n",
    "\n",
    "for i in range(player_count):\n",
    "    if max_matches < len(matches[i]):\n",
    "        max_matches = len(matches[i])\n",
    "        id_max = i\n",
    "\n",
    "print('Player with maximum number of games played: ', player_names[id_max])\n",
    "print('Number of games played: ', max_matches)"
   ]
  },
  {
   "cell_type": "markdown",
   "id": "6c56d506-a0b8-496f-8407-7e473bc58596",
   "metadata": {},
   "source": [
    "Let us now compute how many players played certain amount of games:"
   ]
  },
  {
   "cell_type": "code",
   "execution_count": 25,
   "id": "ea928890-3430-4f58-840f-56a2aa304fec",
   "metadata": {},
   "outputs": [
    {
     "name": "stdout",
     "output_type": "stream",
     "text": [
      "[37789, 25236, 18159, 13452, 10046, 8112, 6404, 5126, 4246, 3656, 2944, 2527, 2144, 1873, 1622, 1399, 1180, 1086, 980, 855, 698, 687, 573, 518, 488, 429, 398, 337, 336, 294, 242, 226, 228, 207, 185, 167, 129, 136, 150, 125, 92, 115, 119, 81, 71, 73, 75, 70, 58, 56, 69, 43, 46, 46, 54, 42, 51, 34, 42, 32, 33, 35, 28, 27, 24, 20, 26, 27, 24, 17, 15, 25, 14, 16, 17, 21, 13, 9, 13, 16, 13, 8, 7, 12, 6, 14, 6, 13, 7, 7, 4, 8, 7, 10, 2, 9, 6, 6, 5, 5, 5, 7, 2, 4, 5, 4, 1, 1, 6, 5, 5, 2, 3, 5, 3, 2, 2, 3, 3, 4, 1, 3, 0, 5, 0, 0, 5, 2, 1, 3, 0, 1, 2, 2, 0, 1, 1, 4, 0, 1, 2, 0, 0, 1, 0, 1, 2, 1, 1, 1, 0, 1, 1, 0, 0, 1, 0, 0, 0, 1, 1, 1, 0, 1, 0, 1, 3, 2, 0, 0, 1, 0, 0, 0, 0, 0, 0, 1, 1, 0, 2, 0, 0, 2, 1, 0, 0, 0, 0, 0, 0, 1, 0, 2, 1, 0, 0, 0, 0, 0, 1, 0, 0, 0, 0, 0, 1, 1, 0, 1, 1, 0, 0, 0, 1, 0, 0, 0, 0, 0, 0, 0, 0, 0, 0, 0, 0, 0, 0, 0, 0, 0, 1, 0, 0, 0, 0, 1, 0, 0, 0, 0, 0, 0, 0, 0, 0, 0, 0, 0, 0, 0, 1, 0, 0, 0, 0, 0, 0, 0, 0, 0, 0, 0, 0, 0, 0, 0, 0, 0, 0, 0, 0, 0, 0, 0, 0, 0, 0, 0, 0, 0, 0, 0, 0, 0, 0, 0, 0, 0, 0, 0, 0, 1, 0, 0, 0, 0, 0, 0, 0, 0, 0, 0, 0, 0, 0, 0, 0, 0, 0, 0, 0, 0, 0, 0, 0, 0, 0, 0, 0, 0, 0, 0, 0, 0, 0, 0, 0, 0, 0, 0, 0, 0, 1, 1]\n"
     ]
    }
   ],
   "source": [
    "num_games = (max_matches+1)*[0]\n",
    "\n",
    "for i in range(player_count):\n",
    "    num_games[len(matches[i])] += 1\n",
    "\n",
    "print(num_games[1:])"
   ]
  },
  {
   "cell_type": "code",
   "execution_count": 27,
   "id": "b08e908f-a3d9-4129-aae4-818fc3e17251",
   "metadata": {},
   "outputs": [
    {
     "name": "stdout",
     "output_type": "stream",
     "text": [
      "Number of players that played 10 games is:  3656\n"
     ]
    }
   ],
   "source": [
    "print('Number of players that played 10 games is: ', num_games[10])"
   ]
  },
  {
   "cell_type": "markdown",
   "id": "7295d872-733c-460c-9c35-3ee6de267688",
   "metadata": {},
   "source": [
    "Let us see this graphically:"
   ]
  },
  {
   "cell_type": "code",
   "execution_count": 30,
   "id": "05166f04-5d3b-4e5b-80ee-c990e57d72b9",
   "metadata": {},
   "outputs": [
    {
     "data": {
      "image/png": "[encoded data removed]",
      "text/plain": [
       "<Figure size 640x480 with 1 Axes>"
      ]
     },
     "metadata": {},
     "output_type": "display_data"
    }
   ],
   "source": [
    "plt.title('Graph illustrating how many players played certain amount of games')\n",
    "plt.plot(np.arange(1, max_matches+1), np.array(num_games[1:]))\n",
    "plt.xlabel('Number of games')\n",
    "plt.ylabel('Number of players')\n",
    "plt.show()"
   ]
  },
  {
   "cell_type": "markdown",
   "id": "976a4569-84aa-4518-b6de-24338c0e653e",
   "metadata": {},
   "source": [
    "As we can see, a lot of players played relatively small amount of games. What we are now interested in is how many players played at least certain amount of games."
   ]
  },
  {
   "cell_type": "code",
   "execution_count": 33,
   "id": "8e7d226f-79a1-4d6b-97cf-b2803f111a00",
   "metadata": {},
   "outputs": [],
   "source": [
    "def at_least_games_played( limit ):\n",
    "    s = 0\n",
    "    for i in range(limit, max_matches+1):\n",
    "        s += num_games[i]\n",
    "    return s"
   ]
  },
  {
   "cell_type": "code",
   "execution_count": 35,
   "id": "3e80e5fc-1475-42d8-bb57-bf1b53f05dd6",
   "metadata": {},
   "outputs": [
    {
     "name": "stdout",
     "output_type": "stream",
     "text": [
      "Number of players that played at least 10 games is  28813\n",
      "Number of players that played at least 15 games is  15669\n",
      "Number of players that played at least 20 games is  9402\n"
     ]
    }
   ],
   "source": [
    "print('Number of players that played at least 10 games is ',at_least_games_played( 10 ))\n",
    "print('Number of players that played at least 15 games is ',at_least_games_played( 15 ))\n",
    "print('Number of players that played at least 20 games is ',at_least_games_played( 20 ))"
   ]
  },
  {
   "cell_type": "markdown",
   "id": "0d5d6655-2a64-49aa-9308-38c91cae6266",
   "metadata": {},
   "source": [
    "Numbers of players that played at least 10, 15 or 20 games are relatively high and do represent a sufficient dadaset to train our neural network on. The discusion on what the final number of minimal games played will be will follow in the next notebook."
   ]
  },
  {
   "cell_type": "markdown",
   "id": "37e2e436-ef96-47a8-88ca-2dcdc0f3ae70",
   "metadata": {},
   "source": [
    "## Saving Data"
   ]
  },
  {
   "cell_type": "markdown",
   "id": "084a6724-ea45-42b1-8036-0cb9ef651a71",
   "metadata": {},
   "source": [
    "What is left to do is to store the produced data in order to be used in the following notebook."
   ]
  },
  {
   "cell_type": "code",
   "execution_count": 40,
   "id": "a357a5d1-23dc-4088-bd02-3cb3cb6459ed",
   "metadata": {},
   "outputs": [],
   "source": [
    "with open(\"ChessData.aca\",\"wb\") as f:\n",
    "    pickle.dump(player_count, f)\n",
    "    pickle.dump(player_names, f)\n",
    "    pickle.dump(player_ids, f)\n",
    "    pickle.dump(matches, f)\n",
    "    pickle.dump(elos, f)"
   ]
  },
  {
   "cell_type": "code",
   "execution_count": null,
   "id": "1478a6a9-0087-4ec7-9c17-216f73f8d537",
   "metadata": {},
   "outputs": [],
   "source": []
  }
 ],
 "metadata": {
  "kernelspec": {
   "display_name": "Python 3 (ipykernel)",
   "language": "python",
   "name": "python3"
  },
  "language_info": {
   "codemirror_mode": {
    "name": "ipython",
    "version": 3
   },
   "file_extension": ".py",
   "mimetype": "text/x-python",
   "name": "python",
   "nbconvert_exporter": "python",
   "pygments_lexer": "ipython3",
   "version": "3.12.4"
  }
 },
 "nbformat": 4,
 "nbformat_minor": 5
}

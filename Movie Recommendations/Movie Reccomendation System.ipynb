{
 "cells": [
  {
   "cell_type": "markdown",
   "id": "e5cf1270-01c6-459a-833f-2e3687dcaea4",
   "metadata": {},
   "source": [
    "# Movie recommendation system\n",
    "\n",
    "In this notebook, we will present the movie recommendation system based on the *cosine similarity* of movie descriptions.  \n",
    "The dataset used in this notebook consists of 15065 movie titles and their descriptions. In our work, we will use this data to find which movies are most similar to *Harry Potter and the Sorcerer's stone*."
   ]
  },
  {
   "cell_type": "markdown",
   "id": "dc44a132-1a24-4056-a588-759832b05abb",
   "metadata": {},
   "source": [
    "In order to process the text we will use the `TfIdf` vectorizer from the `sklearn` package."
   ]
  },
  {
   "cell_type": "code",
   "execution_count": 3,
   "id": "1776ce6a-e85e-40d7-ac7b-980d439a7986",
   "metadata": {},
   "outputs": [],
   "source": [
    "import numpy as np\n",
    "import pandas as pd\n",
    "from sklearn.feature_extraction.text import TfidfVectorizer\n",
    "from sklearn.metrics.pairwise import cosine_similarity\n",
    "\n",
    "import re\n",
    "from collections import defaultdict\n",
    "from langdetect import detect\n",
    "\n",
    "import nltk\n",
    "from nltk.tokenize import word_tokenize\n",
    "from nltk.corpus import stopwords\n",
    "from nltk.stem.wordnet import WordNetLemmatizer\n",
    "from nltk import pos_tag"
   ]
  },
  {
   "cell_type": "markdown",
   "id": "aa90a155-7c40-4b0f-b541-49ca55f0f475",
   "metadata": {},
   "source": [
    "## Uploading and preprocessing data"
   ]
  },
  {
   "cell_type": "code",
   "execution_count": 6,
   "id": "afa3a78b-ba9d-4767-adbb-abc7661ff9f7",
   "metadata": {},
   "outputs": [],
   "source": [
    "movies = pd.read_csv('MovieData.csv')"
   ]
  },
  {
   "cell_type": "code",
   "execution_count": 8,
   "id": "2af5df09-724a-40c2-95e3-ab752a410e23",
   "metadata": {},
   "outputs": [
    {
     "data": {
      "text/html": [
       "<div>\n",
       "<style scoped>\n",
       "    .dataframe tbody tr th:only-of-type {\n",
       "        vertical-align: middle;\n",
       "    }\n",
       "\n",
       "    .dataframe tbody tr th {\n",
       "        vertical-align: top;\n",
       "    }\n",
       "\n",
       "    .dataframe thead th {\n",
       "        text-align: right;\n",
       "    }\n",
       "</style>\n",
       "<table border=\"1\" class=\"dataframe\">\n",
       "  <thead>\n",
       "    <tr style=\"text-align: right;\">\n",
       "      <th></th>\n",
       "      <th>title</th>\n",
       "      <th>desc</th>\n",
       "    </tr>\n",
       "  </thead>\n",
       "  <tbody>\n",
       "    <tr>\n",
       "      <th>0</th>\n",
       "      <td>Sorrowful Jones</td>\n",
       "      <td>Sorrowful Jones is a New York bookie who keeps...</td>\n",
       "    </tr>\n",
       "    <tr>\n",
       "      <th>1</th>\n",
       "      <td>South of St. Louis</td>\n",
       "      <td>During the Civil War, Kip Davis (Joel McCrea),...</td>\n",
       "    </tr>\n",
       "    <tr>\n",
       "      <th>2</th>\n",
       "      <td>Stampede</td>\n",
       "      <td>Two brothers, Mike McCall (Rod Cameron) and Ti...</td>\n",
       "    </tr>\n",
       "    <tr>\n",
       "      <th>3</th>\n",
       "      <td>State Department: File 649</td>\n",
       "      <td>Kenneth Seeley (William Lundigan), member of t...</td>\n",
       "    </tr>\n",
       "    <tr>\n",
       "      <th>4</th>\n",
       "      <td>Strange Bargain</td>\n",
       "      <td>Because the firm is bankrupt, bookkeeper Sam W...</td>\n",
       "    </tr>\n",
       "    <tr>\n",
       "      <th>5</th>\n",
       "      <td>The Stratton Story</td>\n",
       "      <td>Texas farm boy Monty Stratton (Stewart) demons...</td>\n",
       "    </tr>\n",
       "    <tr>\n",
       "      <th>6</th>\n",
       "      <td>Streets of Laredo</td>\n",
       "      <td>A trio of outlaws, Jim Dawkins (Holden), Loren...</td>\n",
       "    </tr>\n",
       "    <tr>\n",
       "      <th>7</th>\n",
       "      <td>Streets of San Francisco</td>\n",
       "      <td>Frankie Fraser finds out his father Luke has c...</td>\n",
       "    </tr>\n",
       "    <tr>\n",
       "      <th>8</th>\n",
       "      <td>The Sun Comes Up</td>\n",
       "      <td>Ex-opera singer Helen Lorfield Winter (Jeanett...</td>\n",
       "    </tr>\n",
       "    <tr>\n",
       "      <th>9</th>\n",
       "      <td>Sword in the Desert</td>\n",
       "      <td>Freighter owner and captain Mike Dillon (Dana ...</td>\n",
       "    </tr>\n",
       "  </tbody>\n",
       "</table>\n",
       "</div>"
      ],
      "text/plain": [
       "                        title  \\\n",
       "0             Sorrowful Jones   \n",
       "1          South of St. Louis   \n",
       "2                    Stampede   \n",
       "3  State Department: File 649   \n",
       "4             Strange Bargain   \n",
       "5          The Stratton Story   \n",
       "6           Streets of Laredo   \n",
       "7    Streets of San Francisco   \n",
       "8            The Sun Comes Up   \n",
       "9         Sword in the Desert   \n",
       "\n",
       "                                                desc  \n",
       "0  Sorrowful Jones is a New York bookie who keeps...  \n",
       "1  During the Civil War, Kip Davis (Joel McCrea),...  \n",
       "2  Two brothers, Mike McCall (Rod Cameron) and Ti...  \n",
       "3  Kenneth Seeley (William Lundigan), member of t...  \n",
       "4  Because the firm is bankrupt, bookkeeper Sam W...  \n",
       "5  Texas farm boy Monty Stratton (Stewart) demons...  \n",
       "6  A trio of outlaws, Jim Dawkins (Holden), Loren...  \n",
       "7  Frankie Fraser finds out his father Luke has c...  \n",
       "8  Ex-opera singer Helen Lorfield Winter (Jeanett...  \n",
       "9  Freighter owner and captain Mike Dillon (Dana ...  "
      ]
     },
     "execution_count": 8,
     "metadata": {},
     "output_type": "execute_result"
    }
   ],
   "source": [
    "movies.head(10)"
   ]
  },
  {
   "cell_type": "markdown",
   "id": "b8c96ff9-8807-4d71-9f51-b3d6b67e9d4b",
   "metadata": {},
   "source": [
    "From all of this data we want to keep those movies whose descriptions are written in english, and whose descriptions are sufficiently long."
   ]
  },
  {
   "cell_type": "code",
   "execution_count": 11,
   "id": "3cf8324c-e933-4961-8c78-18e22b20adf7",
   "metadata": {},
   "outputs": [],
   "source": [
    "text_limit = 1000\n",
    "lang = 'en'"
   ]
  },
  {
   "cell_type": "code",
   "execution_count": 13,
   "id": "a56b1087-36e9-4d7b-bcf5-7d2f7f781886",
   "metadata": {},
   "outputs": [],
   "source": [
    "movies['desc'] = movies['desc'].fillna('')\n",
    "movies = movies[movies['desc'].apply(len) > text_limit]\n",
    "movies = movies.drop_duplicates(subset=['title'])\n",
    "movies['language'] = movies['desc'].apply(detect)\n",
    "movies = movies[movies['language'] == lang]\n",
    "movies.drop('language', axis=1, inplace=True)"
   ]
  },
  {
   "cell_type": "markdown",
   "id": "ff758783-6ce3-4690-98b0-72ca64e866ed",
   "metadata": {},
   "source": [
    "We upload the main description, based on which we make recommendations."
   ]
  },
  {
   "cell_type": "code",
   "execution_count": 16,
   "id": "de74c4a3-bcb7-43ef-9de5-3613e61d839b",
   "metadata": {},
   "outputs": [
    {
     "name": "stdout",
     "output_type": "stream",
     "text": [
      "Ten years later, just before Harry's eleventh birthday, owls begin delivering letters addressed to him. When the abusive Dursleys adamantly refuse to allow Harry to open any and flee to an island hut, Hagrid arrives to personally deliver Harry's letter of acceptance to Hogwarts. Hagrid also reveals that Harry's late parents, James and Lily, were killed by a dark wizard named Lord Voldemort. The killing curse that Voldemort had cast towards Harry rebounded, destroying Voldemort's body and giving Harry the lightning-bolt scar on his forehead. Hagrid then takes Harry to Diagon Alley for school supplies and gives him a pet snowy owl whom he names Hedwig. Harry buys a wand that is connected to Voldemort's own wand. At King's Cross, Harry boards the Hogwarts Express train, and meets fellow first-years Ron Weasley and Hermione Granger during the journey. Arriving at Hogwarts, Harry also meets Draco Malfoy, who is from a wealthy wizard family; the two immediately form a rivalry. The students assemble in the Great Hall where the Sorting Hat sorts the first-years into four respective houses: Gryffindor, Hufflepuff, Ravenclaw, and Slytherin. Harry is placed into Gryffindor alongside Ron and Hermione, while Draco is placed into Slytherin, a house noted for dark wizards.\n"
     ]
    }
   ],
   "source": [
    "main_description = ''\n",
    "with open('Harry Potter description.txt','r') as f:\n",
    "    main_description = f.read()\n",
    "\n",
    "print(main_description)"
   ]
  },
  {
   "cell_type": "markdown",
   "id": "bdb97024-bd49-451a-9903-694fda78845d",
   "metadata": {},
   "source": [
    "## Processing text\n",
    "\n",
    "The most notable library that we use when processing text is `ntlk` library."
   ]
  },
  {
   "cell_type": "code",
   "execution_count": 19,
   "id": "7c3a2165-225e-48c6-9db5-d2acabdc5130",
   "metadata": {},
   "outputs": [
    {
     "name": "stderr",
     "output_type": "stream",
     "text": [
      "[nltk_data] Downloading package punkt to\n",
      "[nltk_data]     C:\\Users\\Korisnik\\AppData\\Roaming\\nltk_data...\n",
      "[nltk_data]   Package punkt is already up-to-date!\n",
      "[nltk_data] Downloading package averaged_perceptron_tagger to\n",
      "[nltk_data]     C:\\Users\\Korisnik\\AppData\\Roaming\\nltk_data...\n",
      "[nltk_data]   Package averaged_perceptron_tagger is already up-to-\n",
      "[nltk_data]       date!\n",
      "[nltk_data] Downloading package wordnet to\n",
      "[nltk_data]     C:\\Users\\Korisnik\\AppData\\Roaming\\nltk_data...\n",
      "[nltk_data]   Package wordnet is already up-to-date!\n",
      "[nltk_data] Downloading package stopwords to\n",
      "[nltk_data]     C:\\Users\\Korisnik\\AppData\\Roaming\\nltk_data...\n",
      "[nltk_data]   Package stopwords is already up-to-date!\n"
     ]
    },
    {
     "data": {
      "text/plain": [
       "True"
      ]
     },
     "execution_count": 19,
     "metadata": {},
     "output_type": "execute_result"
    }
   ],
   "source": [
    "nltk.download('punkt')\n",
    "nltk.download('averaged_perceptron_tagger')\n",
    "nltk.download('wordnet')\n",
    "nltk.download('stopwords')"
   ]
  },
  {
   "cell_type": "code",
   "execution_count": 21,
   "id": "c7278a59-5535-4556-a0e1-2c13f4956a64",
   "metadata": {},
   "outputs": [],
   "source": [
    "stops = stopwords.words('english')\n",
    "lemma = WordNetLemmatizer()"
   ]
  },
  {
   "cell_type": "code",
   "execution_count": 23,
   "id": "dea26e0d-46b1-4bb6-a52a-56971983eaf0",
   "metadata": {},
   "outputs": [],
   "source": [
    "tag_map = defaultdict(lambda: 'n')\n",
    "tag_map['J'] = 'a'\n",
    "tag_map['V'] = 'v'\n",
    "tag_map['R'] = 'r'"
   ]
  },
  {
   "cell_type": "code",
   "execution_count": 25,
   "id": "b2aea658-a1ec-4c19-8dd7-28197e2a4c75",
   "metadata": {},
   "outputs": [],
   "source": [
    "def get_wordnet_tags(tokens):\n",
    "    tagged_tokens = pos_tag(tokens)\n",
    "    return [(token[0], tag_map[token[1][0]]) for token in tagged_tokens]\n",
    "    \n",
    "def process_text(text):\n",
    "    text = text.lower()\n",
    "    text = re.sub(\"[^a-z ]\", \" \", text)\n",
    "    tokens = word_tokenize(text)\n",
    "    tokens = get_wordnet_tags(tokens)\n",
    "    tokens = [lemma.lemmatize(word=token[0], pos=token[1]) for token in tokens]\n",
    "    tokens = [word for word in tokens if word not in stops and len(word) > 2]\n",
    "    return tokens"
   ]
  },
  {
   "cell_type": "code",
   "execution_count": 27,
   "id": "9c4debd7-e205-4fa6-abee-3076b67a0a52",
   "metadata": {},
   "outputs": [],
   "source": [
    "movies['processed_desc'] = movies['desc'].apply(process_text)"
   ]
  },
  {
   "cell_type": "code",
   "execution_count": 29,
   "id": "cfefa360-d266-42fd-a27a-bdfb78060d41",
   "metadata": {},
   "outputs": [],
   "source": [
    "processed_main_desc = process_text(main_description)"
   ]
  },
  {
   "cell_type": "code",
   "execution_count": 31,
   "id": "d04951e2-9578-4306-b827-2c65c667493a",
   "metadata": {},
   "outputs": [
    {
     "name": "stdout",
     "output_type": "stream",
     "text": [
      "['ten', 'year', 'later', 'harry', 'eleventh', 'birthday', 'owls', 'begin', 'deliver', 'letter', 'address', 'abusive', 'dursleys', 'adamantly', 'refuse', 'allow', 'harry', 'open', 'flee', 'island', 'hut', 'hagrid', 'arrive', 'personally', 'deliver', 'harry', 'letter', 'acceptance', 'hogwarts', 'hagrid', 'also', 'reveal', 'harry', 'late', 'parent', 'james', 'lily', 'kill', 'dark', 'wizard', 'name', 'lord', 'voldemort', 'kill', 'curse', 'voldemort', 'cast', 'towards', 'harry', 'rebound', 'destroy', 'voldemort', 'body', 'give', 'harry', 'lightning', 'bolt', 'scar', 'forehead', 'hagrid', 'take', 'harry', 'diagon', 'alley', 'school', 'supply', 'give', 'pet', 'snowy', 'owl', 'name', 'hedwig', 'harry', 'buy', 'wand', 'connect', 'voldemort', 'wand', 'king', 'cross', 'harry', 'board', 'hogwarts', 'express', 'train', 'meet', 'fellow', 'first', 'year', 'ron', 'weasley', 'hermione', 'granger', 'journey', 'arrive', 'hogwarts', 'harry', 'also', 'meet', 'draco', 'malfoy', 'wealthy', 'wizard', 'family', 'two', 'immediately', 'form', 'rivalry', 'student', 'assemble', 'great', 'hall', 'sort', 'hat', 'sort', 'first', 'year', 'four', 'respective', 'house', 'gryffindor', 'hufflepuff', 'ravenclaw', 'slytherin', 'harry', 'place', 'gryffindor', 'alongside', 'ron', 'hermione', 'draco', 'place', 'slytherin', 'house', 'note', 'dark', 'wizard']\n"
     ]
    }
   ],
   "source": [
    "print(processed_main_desc)"
   ]
  },
  {
   "cell_type": "markdown",
   "id": "3d3a3325-fe77-443d-912b-6a6ab669e1d7",
   "metadata": {},
   "source": [
    "## TfIdf Vectorizer"
   ]
  },
  {
   "cell_type": "code",
   "execution_count": 34,
   "id": "6712735f-d3fd-4b55-a557-419ff817a72f",
   "metadata": {},
   "outputs": [],
   "source": [
    "vectorizer = TfidfVectorizer()\n",
    "\n",
    "vectorised_data = vectorizer.fit_transform(movies['processed_desc'].apply(' '.join))\n",
    "main_vector = vectorizer.transform([' '.join(processed_main_desc)])"
   ]
  },
  {
   "cell_type": "markdown",
   "id": "248b6997-26da-419c-850e-327cb360ddcf",
   "metadata": {},
   "source": [
    "## Cosine Similarity\n",
    "\n",
    "With all of the text processed, we are ready to compare movie descriptions."
   ]
  },
  {
   "cell_type": "code",
   "execution_count": 37,
   "id": "3f92e8a1-62d5-4224-80c0-65010625122a",
   "metadata": {},
   "outputs": [
    {
     "data": {
      "text/html": [
       "<div>\n",
       "<style scoped>\n",
       "    .dataframe tbody tr th:only-of-type {\n",
       "        vertical-align: middle;\n",
       "    }\n",
       "\n",
       "    .dataframe tbody tr th {\n",
       "        vertical-align: top;\n",
       "    }\n",
       "\n",
       "    .dataframe thead th {\n",
       "        text-align: right;\n",
       "    }\n",
       "</style>\n",
       "<table border=\"1\" class=\"dataframe\">\n",
       "  <thead>\n",
       "    <tr style=\"text-align: right;\">\n",
       "      <th></th>\n",
       "      <th>title</th>\n",
       "      <th>cosine_similarities</th>\n",
       "    </tr>\n",
       "  </thead>\n",
       "  <tbody>\n",
       "    <tr>\n",
       "      <th>8863</th>\n",
       "      <td>Harry Potter and the Sorcerer's Stone</td>\n",
       "      <td>0.697224</td>\n",
       "    </tr>\n",
       "    <tr>\n",
       "      <th>11041</th>\n",
       "      <td>Harry Potter and the Deathly Hallows: Part 2</td>\n",
       "      <td>0.608518</td>\n",
       "    </tr>\n",
       "    <tr>\n",
       "      <th>9064</th>\n",
       "      <td>Harry Potter and the Chamber of Secrets</td>\n",
       "      <td>0.549352</td>\n",
       "    </tr>\n",
       "    <tr>\n",
       "      <th>10846</th>\n",
       "      <td>Harry Potter and the Deathly Hallows: Part 1</td>\n",
       "      <td>0.516672</td>\n",
       "    </tr>\n",
       "    <tr>\n",
       "      <th>10226</th>\n",
       "      <td>Harry Potter and the Order of the Phoenix</td>\n",
       "      <td>0.475953</td>\n",
       "    </tr>\n",
       "    <tr>\n",
       "      <th>10649</th>\n",
       "      <td>Harry Potter and the Half-Blood Prince</td>\n",
       "      <td>0.472367</td>\n",
       "    </tr>\n",
       "    <tr>\n",
       "      <th>9668</th>\n",
       "      <td>Harry Potter and the Goblet of Fire</td>\n",
       "      <td>0.424314</td>\n",
       "    </tr>\n",
       "    <tr>\n",
       "      <th>883</th>\n",
       "      <td>Houdini</td>\n",
       "      <td>0.402911</td>\n",
       "    </tr>\n",
       "    <tr>\n",
       "      <th>808</th>\n",
       "      <td>The Bigamist</td>\n",
       "      <td>0.387794</td>\n",
       "    </tr>\n",
       "    <tr>\n",
       "      <th>7957</th>\n",
       "      <td>Deconstructing Harry</td>\n",
       "      <td>0.384933</td>\n",
       "    </tr>\n",
       "  </tbody>\n",
       "</table>\n",
       "</div>"
      ],
      "text/plain": [
       "                                              title  cosine_similarities\n",
       "8863          Harry Potter and the Sorcerer's Stone             0.697224\n",
       "11041  Harry Potter and the Deathly Hallows: Part 2             0.608518\n",
       "9064        Harry Potter and the Chamber of Secrets             0.549352\n",
       "10846  Harry Potter and the Deathly Hallows: Part 1             0.516672\n",
       "10226     Harry Potter and the Order of the Phoenix             0.475953\n",
       "10649        Harry Potter and the Half-Blood Prince             0.472367\n",
       "9668            Harry Potter and the Goblet of Fire             0.424314\n",
       "883                                         Houdini             0.402911\n",
       "808                                    The Bigamist             0.387794\n",
       "7957                           Deconstructing Harry             0.384933"
      ]
     },
     "execution_count": 37,
     "metadata": {},
     "output_type": "execute_result"
    }
   ],
   "source": [
    "cosine_similarities = cosine_similarity(main_vector, vectorised_data).flatten()\n",
    "\n",
    "movies['cosine_similarities'] = cosine_similarities\n",
    "\n",
    "recommended_movies = movies.sort_values(by='cosine_similarities', ascending=False)\n",
    "recommended_movies[['title', 'cosine_similarities']].head(10)"
   ]
  },
  {
   "cell_type": "markdown",
   "id": "a9b8a4e6-30c1-46ee-a026-6388df93ac63",
   "metadata": {},
   "source": [
    "## Conclusion\n",
    "\n",
    "As evident by the results, the first seven places are taken by the movies from the *Harry Potter* movie franchise, with the first installment, which is used as a refference, taking the first place. Additionally, we can see that the eigth spot is again taken by the movie with *magic* as it's main motive. We conclude that we have obtained very strong results."
   ]
  },
  {
   "cell_type": "code",
   "execution_count": null,
   "id": "ba5ad024-6a6e-46a9-865b-996c9001be33",
   "metadata": {},
   "outputs": [],
   "source": []
  }
 ],
 "metadata": {
  "kernelspec": {
   "display_name": "Python 3 (ipykernel)",
   "language": "python",
   "name": "python3"
  },
  "language_info": {
   "codemirror_mode": {
    "name": "ipython",
    "version": 3
   },
   "file_extension": ".py",
   "mimetype": "text/x-python",
   "name": "python",
   "nbconvert_exporter": "python",
   "pygments_lexer": "ipython3",
   "version": "3.12.4"
  }
 },
 "nbformat": 4,
 "nbformat_minor": 5
}
